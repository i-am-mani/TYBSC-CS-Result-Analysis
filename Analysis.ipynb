{
 "cells": [
  {
   "cell_type": "markdown",
   "metadata": {},
   "source": [
    "# Analysis Of TYBSC-CS Marksheet "
   ]
  },
  {
   "cell_type": "markdown",
   "metadata": {},
   "source": [
    "### Converting Text Records to CSV\n",
    "\n",
    "##### Steps: \n",
    "1. Convert the PDF of Marksheet to Text File.\n",
    "    + Either use this https://avepdf.com/en/pdf-to-text\n",
    "    + Or Select Entire PDF and Paste it in a Notepad.\n",
    "2. Each New Record begins with a 7 digit unique number, which marks the start of new record\n",
    "3. regex: `r\"[\\d]{7}\"` is used to find this. A match would indicate a new record's start.\n",
    "4. Skip the 7 indexes ahead and look up for name until next char is a '-' or a digit.\n",
    "5. The very next line indicate college name. The tricky part is that if name is long the college name and last name of student get merged. Hence we skip the indexes past the length of Name to be safe from side effect.\n",
    "6. For SGPA and FINAL CGPA we use simple REGEX to match and pick the first matched record, split it by ':' giving use SGP# and ## pointer.\n",
    "\n",
    "NOTE: **WE SAVE THE DATA TO CSV FOR MANUAL MINOR FIXES FROM EXCELL**"
   ]
  },
  {
   "cell_type": "code",
   "execution_count": 397,
   "metadata": {},
   "outputs": [
    {
     "data": {
      "application/vnd.jupyter.widget-view+json": {
       "model_id": "01238b6ad97d4a4c9a4abc180d90e0f2",
       "version_major": 2,
       "version_minor": 0
      },
      "text/plain": [
       "HBox(children=(FloatProgress(value=0.0, max=34122.0), HTML(value='')))"
      ]
     },
     "metadata": {},
     "output_type": "display_data"
    },
    {
     "name": "stdout",
     "output_type": "stream",
     "text": [
      "Incorrect Format for Line                                                  SHANKAR NARAYAN \n",
      "\n",
      "Incorrect Format for Line                          \n",
      "\n",
      "Incorrect Format for Line                          \n",
      "\n",
      "Incorrect Format for Line                          \n",
      "\n",
      "Incorrect Format for Line                          \n",
      "\n",
      "\n"
     ]
    }
   ],
   "source": [
    "import re\n",
    "from tqdm.notebook import tqdm\n",
    "import seaborn as sns\n",
    "\n",
    "inital_digits = r\"[\\d]{7}\"\n",
    "regex_final_cgpa = r\"(FINAL\\W*CGPA\\W*[\\d|\\.]*)\"\n",
    "regex_sgp1 = r\"(SGP1:\\s?[\\d\\.]*)\"\n",
    "regex_sgp2 = r\"(SGP2:\\s?[\\d\\.]*)\"\n",
    "regex_sgp3 = r\"(SGP3:\\s?[\\d\\.]*)\"\n",
    "regex_sgp4 = r\"(SGP4:\\s?[\\d\\.]*)\"\n",
    "regex_sgp5 = r\"(SGP5:\\s?[\\d\\.]*)\"\n",
    "regex_sgp6 = r\"(SGP6:\\s?[\\d\\.]*)\"\n",
    "regex_name = r\"[\\d]{7}\\s?([\\W\\w*]+?)(?=\\s+[\\d-])\"\n",
    "regex_college = r\"\\s+([a-zA-Z]*)(?=\\W\\S)\"\n",
    "\n",
    "FILE_PATH = \"sample-2.txt\"\n",
    "\n",
    "all_students = []\n",
    "\n",
    "def extract_name(line):\n",
    "    try:\n",
    "        g1 = re.match(regex_name, line)\n",
    "        return g1.groups()[0].strip()\n",
    "    except:\n",
    "        print(f\"Incorrect Format for Line {line}\")\n",
    "\n",
    "def extract_college(line,student):\n",
    "    try:\n",
    "        if(len(line) > 25):\n",
    "            padding = len(student['name'])\n",
    "            student[\"college_name\"] = line[padding:].split()[0]        \n",
    "    except:\n",
    "        print(f\"Incorrect Format for Line {line}\")\n",
    "\n",
    "def get_first_match(regex,student):\n",
    "    match = re.findall(regex, line)\n",
    "    if(match != None and len(match) != 0):\n",
    "        gpa_str = match[0]\n",
    "        if(regex != regex_final_cgpa):\n",
    "            gpasplit = gpa_str.split(':')\n",
    "            sem = gpasplit[0]\n",
    "            gpa = gpasplit[-1]        \n",
    "            student[sem] = float(gpa)\n",
    "        else:\n",
    "            gpasplit = gpa_str.split(' ')\n",
    "            gpa = gpasplit[-1]\n",
    "            student[\"CGPA\"] = gpa\n",
    "\n",
    "with open(FILE_PATH) as file:\n",
    "    next_line_is_college = False\n",
    "    # doc_text = ''.join(file.readlines())\n",
    "    prev_student = None\n",
    "    for line in tqdm(file.readlines()):\n",
    "        # filter heading text\n",
    "        if(re.search(inital_digits, line) or prev_student):\n",
    "            obj = re.match(inital_digits, line)\n",
    "            \n",
    "            # update name\n",
    "            if(obj != None):\n",
    "                [i for i in line if i]\n",
    "                name = extract_name(line)\n",
    "                if(prev_student != None):\n",
    "                    all_students.append(prev_student)\n",
    "                prev_student = dict()\n",
    "                prev_student['name'] = name\n",
    "                next_line_is_college = True\n",
    "                continue\n",
    "                \n",
    "            if(next_line_is_college):\n",
    "                extract_college(line,prev_student)                \n",
    "                next_line_is_college = False\n",
    "                continue\n",
    "                                \n",
    "            get_first_match(regex_sgp1,prev_student)\n",
    "            get_first_match(regex_sgp2,prev_student)\n",
    "            get_first_match(regex_sgp3,prev_student)\n",
    "            get_first_match(regex_sgp4,prev_student)\n",
    "            get_first_match(regex_sgp5,prev_student)\n",
    "            get_first_match(regex_sgp6,prev_student)\n",
    "            get_first_match(regex_final_cgpa,prev_student)    "
   ]
  },
  {
   "cell_type": "code",
   "execution_count": 95,
   "metadata": {},
   "outputs": [],
   "source": [
    "import pandas as pd\n",
    "\n",
    "\n",
    "df = pd.DataFrame.from_dict(all_students)\n",
    "df.to_csv(\"marks.csv\")"
   ]
  },
  {
   "cell_type": "markdown",
   "metadata": {},
   "source": [
    "### Helper Functions"
   ]
  },
  {
   "cell_type": "code",
   "execution_count": 374,
   "metadata": {},
   "outputs": [],
   "source": [
    "from IPython.core.display import display, HTML\n",
    "import seaborn as sns\n",
    "def print_full(x):\n",
    "    pd.set_option('display.max_rows', len(x))\n",
    "    print(x)\n",
    "    pd.reset_option('display.max_rows')\n",
    "    \n",
    "def print_title(s):\n",
    "    display(HTML(f\"<h3>{s}</h3>\"))\n",
    "\n",
    "def print_caption(s):\n",
    "    display(HTML(f\"<h6>{s}</h6>\"))\n",
    "    \n",
    "def print_seperator():\n",
    "    print_title(\"-\"*100)\n",
    "    \n",
    "\n",
    "def highlight_value(tdf):\n",
    "    style_func = lambda c : ['background: lightgreen' if x == \"RUPAREL\" else '' for x in c]\n",
    "    return tdf.style.apply(style_func,axis=0)"
   ]
  },
  {
   "cell_type": "markdown",
   "metadata": {
    "heading_collapsed": true
   },
   "source": [
    "### Preprocessing Problems\n",
    "\n",
    "+ Remove '/' prefix\n",
    "+ Correct Incorrect College Names\n",
    "+ Map College prefix to Full Name\n",
    "+ Update Dtype of Pointer Cols"
   ]
  },
  {
   "cell_type": "code",
   "execution_count": 102,
   "metadata": {
    "hidden": true,
    "scrolled": true
   },
   "outputs": [],
   "source": [
    "\"\"\"Manually fixed wrong college names from Excell\"\"\"\n",
    "df = pd.read_csv(\"marks.csv\")"
   ]
  },
  {
   "cell_type": "code",
   "execution_count": 104,
   "metadata": {
    "hidden": true
   },
   "outputs": [],
   "source": [
    "\"\"\" Removing '/' prefix \"\"\"\n",
    "\n",
    "func = lambda c: c[1:] if c.startswith('/') else c\n",
    "df['name'] = df['name'].apply(func)"
   ]
  },
  {
   "cell_type": "markdown",
   "metadata": {},
   "source": [
    "# Analysis"
   ]
  },
  {
   "cell_type": "markdown",
   "metadata": {},
   "source": [
    "## Ruparel"
   ]
  },
  {
   "cell_type": "markdown",
   "metadata": {},
   "source": [
    "#### Top by GPA"
   ]
  },
  {
   "cell_type": "code",
   "execution_count": 184,
   "metadata": {
    "scrolled": false
   },
   "outputs": [
    {
     "data": {
      "text/html": [
       "<h3>Top 10 Students - Semester 1</h3>"
      ],
      "text/plain": [
       "<IPython.core.display.HTML object>"
      ]
     },
     "metadata": {},
     "output_type": "display_data"
    },
    {
     "data": {
      "text/html": [
       "<div>\n",
       "<style scoped>\n",
       "    .dataframe tbody tr th:only-of-type {\n",
       "        vertical-align: middle;\n",
       "    }\n",
       "\n",
       "    .dataframe tbody tr th {\n",
       "        vertical-align: top;\n",
       "    }\n",
       "\n",
       "    .dataframe thead th {\n",
       "        text-align: right;\n",
       "    }\n",
       "</style>\n",
       "<table border=\"1\" class=\"dataframe\">\n",
       "  <thead>\n",
       "    <tr style=\"text-align: right;\">\n",
       "      <th></th>\n",
       "      <th>name</th>\n",
       "      <th>SGP1</th>\n",
       "    </tr>\n",
       "  </thead>\n",
       "  <tbody>\n",
       "    <tr>\n",
       "      <th>0</th>\n",
       "      <td>HARMALKAR HRITIKA KAMLESH KANIKA</td>\n",
       "      <td>9.7</td>\n",
       "    </tr>\n",
       "    <tr>\n",
       "      <th>1</th>\n",
       "      <td>GHAG PRANALI ASHOK SEEMA</td>\n",
       "      <td>9.7</td>\n",
       "    </tr>\n",
       "    <tr>\n",
       "      <th>2</th>\n",
       "      <td>GAIKWAD PRITI BHAGWAT GEETA</td>\n",
       "      <td>9.6</td>\n",
       "    </tr>\n",
       "    <tr>\n",
       "      <th>3</th>\n",
       "      <td>CHAVAN AKSHATA DHANANJAY MINAKSH</td>\n",
       "      <td>9.4</td>\n",
       "    </tr>\n",
       "    <tr>\n",
       "      <th>4</th>\n",
       "      <td>CHANDORA LALIT NAINARAM MANJU CH</td>\n",
       "      <td>9.3</td>\n",
       "    </tr>\n",
       "    <tr>\n",
       "      <th>5</th>\n",
       "      <td>GAIKWAD KANAD RAVINDRA RASHMI</td>\n",
       "      <td>9.3</td>\n",
       "    </tr>\n",
       "    <tr>\n",
       "      <th>6</th>\n",
       "      <td>LOKHANDE YASH SUNIL RUPALI</td>\n",
       "      <td>9.3</td>\n",
       "    </tr>\n",
       "    <tr>\n",
       "      <th>7</th>\n",
       "      <td>TANDEL PRAPTI PRASHANT KAVITA</td>\n",
       "      <td>9.2</td>\n",
       "    </tr>\n",
       "    <tr>\n",
       "      <th>8</th>\n",
       "      <td>DCRUZ LOVIN MARTIN GRACE</td>\n",
       "      <td>9.2</td>\n",
       "    </tr>\n",
       "    <tr>\n",
       "      <th>9</th>\n",
       "      <td>SAWANT SIDDHI NARESH NAMRATA</td>\n",
       "      <td>9.1</td>\n",
       "    </tr>\n",
       "  </tbody>\n",
       "</table>\n",
       "</div>"
      ],
      "text/plain": [
       "                               name  SGP1\n",
       "0  HARMALKAR HRITIKA KAMLESH KANIKA   9.7\n",
       "1          GHAG PRANALI ASHOK SEEMA   9.7\n",
       "2       GAIKWAD PRITI BHAGWAT GEETA   9.6\n",
       "3  CHAVAN AKSHATA DHANANJAY MINAKSH   9.4\n",
       "4  CHANDORA LALIT NAINARAM MANJU CH   9.3\n",
       "5     GAIKWAD KANAD RAVINDRA RASHMI   9.3\n",
       "6        LOKHANDE YASH SUNIL RUPALI   9.3\n",
       "7     TANDEL PRAPTI PRASHANT KAVITA   9.2\n",
       "8          DCRUZ LOVIN MARTIN GRACE   9.2\n",
       "9      SAWANT SIDDHI NARESH NAMRATA   9.1"
      ]
     },
     "metadata": {},
     "output_type": "display_data"
    },
    {
     "data": {
      "text/html": [
       "<h3>----------------------------------------------------------------------------------------------------</h3>"
      ],
      "text/plain": [
       "<IPython.core.display.HTML object>"
      ]
     },
     "metadata": {},
     "output_type": "display_data"
    },
    {
     "data": {
      "text/html": [
       "<h3>Top 10 Students - Semester 2</h3>"
      ],
      "text/plain": [
       "<IPython.core.display.HTML object>"
      ]
     },
     "metadata": {},
     "output_type": "display_data"
    },
    {
     "data": {
      "text/html": [
       "<div>\n",
       "<style scoped>\n",
       "    .dataframe tbody tr th:only-of-type {\n",
       "        vertical-align: middle;\n",
       "    }\n",
       "\n",
       "    .dataframe tbody tr th {\n",
       "        vertical-align: top;\n",
       "    }\n",
       "\n",
       "    .dataframe thead th {\n",
       "        text-align: right;\n",
       "    }\n",
       "</style>\n",
       "<table border=\"1\" class=\"dataframe\">\n",
       "  <thead>\n",
       "    <tr style=\"text-align: right;\">\n",
       "      <th></th>\n",
       "      <th>name</th>\n",
       "      <th>SGP2</th>\n",
       "    </tr>\n",
       "  </thead>\n",
       "  <tbody>\n",
       "    <tr>\n",
       "      <th>0</th>\n",
       "      <td>HARMALKAR HRITIKA KAMLESH KANIKA</td>\n",
       "      <td>9.7</td>\n",
       "    </tr>\n",
       "    <tr>\n",
       "      <th>1</th>\n",
       "      <td>TANDEL PRAPTI PRASHANT KAVITA</td>\n",
       "      <td>9.6</td>\n",
       "    </tr>\n",
       "    <tr>\n",
       "      <th>2</th>\n",
       "      <td>HARNE BHAVESH GOPAL NAYAN</td>\n",
       "      <td>9.6</td>\n",
       "    </tr>\n",
       "    <tr>\n",
       "      <th>3</th>\n",
       "      <td>SAWANT SIDDHI NARESH NAMRATA</td>\n",
       "      <td>9.4</td>\n",
       "    </tr>\n",
       "    <tr>\n",
       "      <th>4</th>\n",
       "      <td>GAIKWAD PRITI BHAGWAT GEETA</td>\n",
       "      <td>9.4</td>\n",
       "    </tr>\n",
       "    <tr>\n",
       "      <th>5</th>\n",
       "      <td>SINGH MANISH RAJ ASHOK KUMAR REK</td>\n",
       "      <td>9.3</td>\n",
       "    </tr>\n",
       "    <tr>\n",
       "      <th>6</th>\n",
       "      <td>MOHAKAR SIDDHI SANTOSH BHARATI</td>\n",
       "      <td>9.3</td>\n",
       "    </tr>\n",
       "    <tr>\n",
       "      <th>7</th>\n",
       "      <td>LAD PRAJAKTA JAYWANT JAGRUTI</td>\n",
       "      <td>9.2</td>\n",
       "    </tr>\n",
       "    <tr>\n",
       "      <th>8</th>\n",
       "      <td>KHALATE NISHANT ANKUSH JAYASHRI</td>\n",
       "      <td>9.2</td>\n",
       "    </tr>\n",
       "    <tr>\n",
       "      <th>9</th>\n",
       "      <td>DESALE VAISHNAVI RAMESH ASHWINI</td>\n",
       "      <td>9.2</td>\n",
       "    </tr>\n",
       "  </tbody>\n",
       "</table>\n",
       "</div>"
      ],
      "text/plain": [
       "                               name  SGP2\n",
       "0  HARMALKAR HRITIKA KAMLESH KANIKA   9.7\n",
       "1     TANDEL PRAPTI PRASHANT KAVITA   9.6\n",
       "2         HARNE BHAVESH GOPAL NAYAN   9.6\n",
       "3      SAWANT SIDDHI NARESH NAMRATA   9.4\n",
       "4       GAIKWAD PRITI BHAGWAT GEETA   9.4\n",
       "5  SINGH MANISH RAJ ASHOK KUMAR REK   9.3\n",
       "6    MOHAKAR SIDDHI SANTOSH BHARATI   9.3\n",
       "7      LAD PRAJAKTA JAYWANT JAGRUTI   9.2\n",
       "8   KHALATE NISHANT ANKUSH JAYASHRI   9.2\n",
       "9   DESALE VAISHNAVI RAMESH ASHWINI   9.2"
      ]
     },
     "metadata": {},
     "output_type": "display_data"
    },
    {
     "data": {
      "text/html": [
       "<h3>----------------------------------------------------------------------------------------------------</h3>"
      ],
      "text/plain": [
       "<IPython.core.display.HTML object>"
      ]
     },
     "metadata": {},
     "output_type": "display_data"
    },
    {
     "data": {
      "text/html": [
       "<h3>Top 10 Students - Semester 3</h3>"
      ],
      "text/plain": [
       "<IPython.core.display.HTML object>"
      ]
     },
     "metadata": {},
     "output_type": "display_data"
    },
    {
     "data": {
      "text/html": [
       "<div>\n",
       "<style scoped>\n",
       "    .dataframe tbody tr th:only-of-type {\n",
       "        vertical-align: middle;\n",
       "    }\n",
       "\n",
       "    .dataframe tbody tr th {\n",
       "        vertical-align: top;\n",
       "    }\n",
       "\n",
       "    .dataframe thead th {\n",
       "        text-align: right;\n",
       "    }\n",
       "</style>\n",
       "<table border=\"1\" class=\"dataframe\">\n",
       "  <thead>\n",
       "    <tr style=\"text-align: right;\">\n",
       "      <th></th>\n",
       "      <th>name</th>\n",
       "      <th>SGP3</th>\n",
       "    </tr>\n",
       "  </thead>\n",
       "  <tbody>\n",
       "    <tr>\n",
       "      <th>0</th>\n",
       "      <td>TANDEL PRAPTI PRASHANT KAVITA</td>\n",
       "      <td>9.90</td>\n",
       "    </tr>\n",
       "    <tr>\n",
       "      <th>1</th>\n",
       "      <td>GAIKWAD PRITI BHAGWAT GEETA</td>\n",
       "      <td>9.90</td>\n",
       "    </tr>\n",
       "    <tr>\n",
       "      <th>2</th>\n",
       "      <td>DCRUZ LOVIN MARTIN GRACE</td>\n",
       "      <td>9.70</td>\n",
       "    </tr>\n",
       "    <tr>\n",
       "      <th>3</th>\n",
       "      <td>HARMALKAR HRITIKA KAMLESH KANIKA</td>\n",
       "      <td>9.70</td>\n",
       "    </tr>\n",
       "    <tr>\n",
       "      <th>4</th>\n",
       "      <td>MALI MAYANK JANARDHAN REWATI</td>\n",
       "      <td>9.65</td>\n",
       "    </tr>\n",
       "    <tr>\n",
       "      <th>5</th>\n",
       "      <td>HARNE BHAVESH GOPAL NAYAN</td>\n",
       "      <td>9.60</td>\n",
       "    </tr>\n",
       "    <tr>\n",
       "      <th>6</th>\n",
       "      <td>SAWANT SIDDHI NARESH NAMRATA</td>\n",
       "      <td>9.60</td>\n",
       "    </tr>\n",
       "    <tr>\n",
       "      <th>7</th>\n",
       "      <td>RAWOOL SHANKAR PUNDLIK PRERANA</td>\n",
       "      <td>9.60</td>\n",
       "    </tr>\n",
       "    <tr>\n",
       "      <th>8</th>\n",
       "      <td>MOHAKAR SIDDHI SANTOSH BHARATI</td>\n",
       "      <td>9.50</td>\n",
       "    </tr>\n",
       "    <tr>\n",
       "      <th>9</th>\n",
       "      <td>LOKHANDE YASH SUNIL RUPALI</td>\n",
       "      <td>9.50</td>\n",
       "    </tr>\n",
       "  </tbody>\n",
       "</table>\n",
       "</div>"
      ],
      "text/plain": [
       "                               name  SGP3\n",
       "0     TANDEL PRAPTI PRASHANT KAVITA  9.90\n",
       "1       GAIKWAD PRITI BHAGWAT GEETA  9.90\n",
       "2          DCRUZ LOVIN MARTIN GRACE  9.70\n",
       "3  HARMALKAR HRITIKA KAMLESH KANIKA  9.70\n",
       "4      MALI MAYANK JANARDHAN REWATI  9.65\n",
       "5         HARNE BHAVESH GOPAL NAYAN  9.60\n",
       "6      SAWANT SIDDHI NARESH NAMRATA  9.60\n",
       "7    RAWOOL SHANKAR PUNDLIK PRERANA  9.60\n",
       "8    MOHAKAR SIDDHI SANTOSH BHARATI  9.50\n",
       "9        LOKHANDE YASH SUNIL RUPALI  9.50"
      ]
     },
     "metadata": {},
     "output_type": "display_data"
    },
    {
     "data": {
      "text/html": [
       "<h3>----------------------------------------------------------------------------------------------------</h3>"
      ],
      "text/plain": [
       "<IPython.core.display.HTML object>"
      ]
     },
     "metadata": {},
     "output_type": "display_data"
    },
    {
     "data": {
      "text/html": [
       "<h3>Top 10 Students - Semester 4</h3>"
      ],
      "text/plain": [
       "<IPython.core.display.HTML object>"
      ]
     },
     "metadata": {},
     "output_type": "display_data"
    },
    {
     "data": {
      "text/html": [
       "<div>\n",
       "<style scoped>\n",
       "    .dataframe tbody tr th:only-of-type {\n",
       "        vertical-align: middle;\n",
       "    }\n",
       "\n",
       "    .dataframe tbody tr th {\n",
       "        vertical-align: top;\n",
       "    }\n",
       "\n",
       "    .dataframe thead th {\n",
       "        text-align: right;\n",
       "    }\n",
       "</style>\n",
       "<table border=\"1\" class=\"dataframe\">\n",
       "  <thead>\n",
       "    <tr style=\"text-align: right;\">\n",
       "      <th></th>\n",
       "      <th>name</th>\n",
       "      <th>SGP4</th>\n",
       "    </tr>\n",
       "  </thead>\n",
       "  <tbody>\n",
       "    <tr>\n",
       "      <th>0</th>\n",
       "      <td>GAIKWAD PRITI BHAGWAT GEETA</td>\n",
       "      <td>9.85</td>\n",
       "    </tr>\n",
       "    <tr>\n",
       "      <th>1</th>\n",
       "      <td>TANDEL PRAPTI PRASHANT KAVITA</td>\n",
       "      <td>9.70</td>\n",
       "    </tr>\n",
       "    <tr>\n",
       "      <th>2</th>\n",
       "      <td>PATHAN MINAZ DAWOOD SUMAYA</td>\n",
       "      <td>9.70</td>\n",
       "    </tr>\n",
       "    <tr>\n",
       "      <th>3</th>\n",
       "      <td>SAWANT SIDDHI NARESH NAMRATA</td>\n",
       "      <td>9.70</td>\n",
       "    </tr>\n",
       "    <tr>\n",
       "      <th>4</th>\n",
       "      <td>HARMALKAR HRITIKA KAMLESH KANIKA</td>\n",
       "      <td>9.60</td>\n",
       "    </tr>\n",
       "    <tr>\n",
       "      <th>5</th>\n",
       "      <td>MOHAKAR SIDDHI SANTOSH BHARATI</td>\n",
       "      <td>9.60</td>\n",
       "    </tr>\n",
       "    <tr>\n",
       "      <th>6</th>\n",
       "      <td>MALI MAYANK JANARDHAN REWATI</td>\n",
       "      <td>9.60</td>\n",
       "    </tr>\n",
       "    <tr>\n",
       "      <th>7</th>\n",
       "      <td>MUNDLE SHIVANI UMESH TRUPTI</td>\n",
       "      <td>9.50</td>\n",
       "    </tr>\n",
       "    <tr>\n",
       "      <th>8</th>\n",
       "      <td>REEN AMANDEEP SINGH MOHINDER SIN</td>\n",
       "      <td>9.45</td>\n",
       "    </tr>\n",
       "    <tr>\n",
       "      <th>9</th>\n",
       "      <td>CHANGAN PRANALI PRAMOD SUREKHA</td>\n",
       "      <td>9.40</td>\n",
       "    </tr>\n",
       "  </tbody>\n",
       "</table>\n",
       "</div>"
      ],
      "text/plain": [
       "                               name  SGP4\n",
       "0       GAIKWAD PRITI BHAGWAT GEETA  9.85\n",
       "1     TANDEL PRAPTI PRASHANT KAVITA  9.70\n",
       "2        PATHAN MINAZ DAWOOD SUMAYA  9.70\n",
       "3      SAWANT SIDDHI NARESH NAMRATA  9.70\n",
       "4  HARMALKAR HRITIKA KAMLESH KANIKA  9.60\n",
       "5    MOHAKAR SIDDHI SANTOSH BHARATI  9.60\n",
       "6      MALI MAYANK JANARDHAN REWATI  9.60\n",
       "7       MUNDLE SHIVANI UMESH TRUPTI  9.50\n",
       "8  REEN AMANDEEP SINGH MOHINDER SIN  9.45\n",
       "9    CHANGAN PRANALI PRAMOD SUREKHA  9.40"
      ]
     },
     "metadata": {},
     "output_type": "display_data"
    },
    {
     "data": {
      "text/html": [
       "<h3>----------------------------------------------------------------------------------------------------</h3>"
      ],
      "text/plain": [
       "<IPython.core.display.HTML object>"
      ]
     },
     "metadata": {},
     "output_type": "display_data"
    },
    {
     "data": {
      "text/html": [
       "<h3>Top 10 Students - Semester 5</h3>"
      ],
      "text/plain": [
       "<IPython.core.display.HTML object>"
      ]
     },
     "metadata": {},
     "output_type": "display_data"
    },
    {
     "data": {
      "text/html": [
       "<div>\n",
       "<style scoped>\n",
       "    .dataframe tbody tr th:only-of-type {\n",
       "        vertical-align: middle;\n",
       "    }\n",
       "\n",
       "    .dataframe tbody tr th {\n",
       "        vertical-align: top;\n",
       "    }\n",
       "\n",
       "    .dataframe thead th {\n",
       "        text-align: right;\n",
       "    }\n",
       "</style>\n",
       "<table border=\"1\" class=\"dataframe\">\n",
       "  <thead>\n",
       "    <tr style=\"text-align: right;\">\n",
       "      <th></th>\n",
       "      <th>name</th>\n",
       "      <th>SGP5</th>\n",
       "    </tr>\n",
       "  </thead>\n",
       "  <tbody>\n",
       "    <tr>\n",
       "      <th>0</th>\n",
       "      <td>HOLKAR PURNIMA RAJSHEKHAR RAJESH</td>\n",
       "      <td>9.60</td>\n",
       "    </tr>\n",
       "    <tr>\n",
       "      <th>1</th>\n",
       "      <td>TANDEL PRAPTI PRASHANT KAVITA</td>\n",
       "      <td>9.50</td>\n",
       "    </tr>\n",
       "    <tr>\n",
       "      <th>2</th>\n",
       "      <td>GAWAS HRISHIKESH ASHOK RUSHALI</td>\n",
       "      <td>9.40</td>\n",
       "    </tr>\n",
       "    <tr>\n",
       "      <th>3</th>\n",
       "      <td>GAIKWAD PRITI BHAGWAT GEETA</td>\n",
       "      <td>9.35</td>\n",
       "    </tr>\n",
       "    <tr>\n",
       "      <th>4</th>\n",
       "      <td>JAISWAL AKASH DINDAYAL SEEMA</td>\n",
       "      <td>9.25</td>\n",
       "    </tr>\n",
       "    <tr>\n",
       "      <th>5</th>\n",
       "      <td>SINGH MANISH RAJ ASHOK KUMAR REK</td>\n",
       "      <td>9.15</td>\n",
       "    </tr>\n",
       "    <tr>\n",
       "      <th>6</th>\n",
       "      <td>REEN AMANDEEP SINGH MOHINDER SIN</td>\n",
       "      <td>9.15</td>\n",
       "    </tr>\n",
       "    <tr>\n",
       "      <th>7</th>\n",
       "      <td>PALANDE SHRUTI DEVIDAS SARITA</td>\n",
       "      <td>9.15</td>\n",
       "    </tr>\n",
       "    <tr>\n",
       "      <th>8</th>\n",
       "      <td>MOHAKAR SIDDHI SANTOSH BHARATI</td>\n",
       "      <td>9.10</td>\n",
       "    </tr>\n",
       "    <tr>\n",
       "      <th>9</th>\n",
       "      <td>PARULEKAR KOMAL DEEPAK JYOTI</td>\n",
       "      <td>9.10</td>\n",
       "    </tr>\n",
       "  </tbody>\n",
       "</table>\n",
       "</div>"
      ],
      "text/plain": [
       "                               name  SGP5\n",
       "0  HOLKAR PURNIMA RAJSHEKHAR RAJESH  9.60\n",
       "1     TANDEL PRAPTI PRASHANT KAVITA  9.50\n",
       "2    GAWAS HRISHIKESH ASHOK RUSHALI  9.40\n",
       "3       GAIKWAD PRITI BHAGWAT GEETA  9.35\n",
       "4      JAISWAL AKASH DINDAYAL SEEMA  9.25\n",
       "5  SINGH MANISH RAJ ASHOK KUMAR REK  9.15\n",
       "6  REEN AMANDEEP SINGH MOHINDER SIN  9.15\n",
       "7     PALANDE SHRUTI DEVIDAS SARITA  9.15\n",
       "8    MOHAKAR SIDDHI SANTOSH BHARATI  9.10\n",
       "9      PARULEKAR KOMAL DEEPAK JYOTI  9.10"
      ]
     },
     "metadata": {},
     "output_type": "display_data"
    },
    {
     "data": {
      "text/html": [
       "<h3>----------------------------------------------------------------------------------------------------</h3>"
      ],
      "text/plain": [
       "<IPython.core.display.HTML object>"
      ]
     },
     "metadata": {},
     "output_type": "display_data"
    },
    {
     "data": {
      "text/html": [
       "<h3>Top 10 Students - Semester 6</h3>"
      ],
      "text/plain": [
       "<IPython.core.display.HTML object>"
      ]
     },
     "metadata": {},
     "output_type": "display_data"
    },
    {
     "data": {
      "text/html": [
       "<div>\n",
       "<style scoped>\n",
       "    .dataframe tbody tr th:only-of-type {\n",
       "        vertical-align: middle;\n",
       "    }\n",
       "\n",
       "    .dataframe tbody tr th {\n",
       "        vertical-align: top;\n",
       "    }\n",
       "\n",
       "    .dataframe thead th {\n",
       "        text-align: right;\n",
       "    }\n",
       "</style>\n",
       "<table border=\"1\" class=\"dataframe\">\n",
       "  <thead>\n",
       "    <tr style=\"text-align: right;\">\n",
       "      <th></th>\n",
       "      <th>name</th>\n",
       "      <th>SGP6</th>\n",
       "    </tr>\n",
       "  </thead>\n",
       "  <tbody>\n",
       "    <tr>\n",
       "      <th>0</th>\n",
       "      <td>PALANDE SHRUTI DEVIDAS SARITA</td>\n",
       "      <td>9.60</td>\n",
       "    </tr>\n",
       "    <tr>\n",
       "      <th>1</th>\n",
       "      <td>PATIL  SIDDHI VIVESH KOMAL</td>\n",
       "      <td>9.60</td>\n",
       "    </tr>\n",
       "    <tr>\n",
       "      <th>2</th>\n",
       "      <td>TANDEL PRAPTI PRASHANT KAVITA</td>\n",
       "      <td>9.60</td>\n",
       "    </tr>\n",
       "    <tr>\n",
       "      <th>3</th>\n",
       "      <td>CHOUTAPELLY MANIDEEP RAMESH LAYA</td>\n",
       "      <td>9.60</td>\n",
       "    </tr>\n",
       "    <tr>\n",
       "      <th>4</th>\n",
       "      <td>MOHAKAR SIDDHI SANTOSH BHARATI</td>\n",
       "      <td>9.50</td>\n",
       "    </tr>\n",
       "    <tr>\n",
       "      <th>5</th>\n",
       "      <td>SHARMA SACHIN RAMVINAY RADHIKA</td>\n",
       "      <td>9.50</td>\n",
       "    </tr>\n",
       "    <tr>\n",
       "      <th>6</th>\n",
       "      <td>REEN AMANDEEP SINGH MOHINDER SIN</td>\n",
       "      <td>9.45</td>\n",
       "    </tr>\n",
       "    <tr>\n",
       "      <th>7</th>\n",
       "      <td>LAD PRAJAKTA JAYWANT JAGRUTI</td>\n",
       "      <td>9.45</td>\n",
       "    </tr>\n",
       "    <tr>\n",
       "      <th>8</th>\n",
       "      <td>KHALATE NISHANT ANKUSH JAYASHRI</td>\n",
       "      <td>9.45</td>\n",
       "    </tr>\n",
       "    <tr>\n",
       "      <th>9</th>\n",
       "      <td>PRAJAPATI SUJIT RAMRISHI CHANDRA</td>\n",
       "      <td>9.45</td>\n",
       "    </tr>\n",
       "  </tbody>\n",
       "</table>\n",
       "</div>"
      ],
      "text/plain": [
       "                               name  SGP6\n",
       "0     PALANDE SHRUTI DEVIDAS SARITA  9.60\n",
       "1        PATIL  SIDDHI VIVESH KOMAL  9.60\n",
       "2     TANDEL PRAPTI PRASHANT KAVITA  9.60\n",
       "3  CHOUTAPELLY MANIDEEP RAMESH LAYA  9.60\n",
       "4    MOHAKAR SIDDHI SANTOSH BHARATI  9.50\n",
       "5    SHARMA SACHIN RAMVINAY RADHIKA  9.50\n",
       "6  REEN AMANDEEP SINGH MOHINDER SIN  9.45\n",
       "7      LAD PRAJAKTA JAYWANT JAGRUTI  9.45\n",
       "8   KHALATE NISHANT ANKUSH JAYASHRI  9.45\n",
       "9  PRAJAPATI SUJIT RAMRISHI CHANDRA  9.45"
      ]
     },
     "metadata": {},
     "output_type": "display_data"
    },
    {
     "data": {
      "text/html": [
       "<h3>----------------------------------------------------------------------------------------------------</h3>"
      ],
      "text/plain": [
       "<IPython.core.display.HTML object>"
      ]
     },
     "metadata": {},
     "output_type": "display_data"
    },
    {
     "data": {
      "text/html": [
       "<h3>Top 10 Students - Final CGPA</h3>"
      ],
      "text/plain": [
       "<IPython.core.display.HTML object>"
      ]
     },
     "metadata": {},
     "output_type": "display_data"
    },
    {
     "data": {
      "text/html": [
       "<div>\n",
       "<style scoped>\n",
       "    .dataframe tbody tr th:only-of-type {\n",
       "        vertical-align: middle;\n",
       "    }\n",
       "\n",
       "    .dataframe tbody tr th {\n",
       "        vertical-align: top;\n",
       "    }\n",
       "\n",
       "    .dataframe thead th {\n",
       "        text-align: right;\n",
       "    }\n",
       "</style>\n",
       "<table border=\"1\" class=\"dataframe\">\n",
       "  <thead>\n",
       "    <tr style=\"text-align: right;\">\n",
       "      <th></th>\n",
       "      <th>name</th>\n",
       "      <th>CGPA</th>\n",
       "    </tr>\n",
       "  </thead>\n",
       "  <tbody>\n",
       "    <tr>\n",
       "      <th>0</th>\n",
       "      <td>TANDEL PRAPTI PRASHANT KAVITA</td>\n",
       "      <td>9.58</td>\n",
       "    </tr>\n",
       "    <tr>\n",
       "      <th>1</th>\n",
       "      <td>GAIKWAD PRITI BHAGWAT GEETA</td>\n",
       "      <td>9.57</td>\n",
       "    </tr>\n",
       "    <tr>\n",
       "      <th>2</th>\n",
       "      <td>HARMALKAR HRITIKA KAMLESH KANIKA</td>\n",
       "      <td>9.38</td>\n",
       "    </tr>\n",
       "    <tr>\n",
       "      <th>3</th>\n",
       "      <td>MOHAKAR SIDDHI SANTOSH BHARATI</td>\n",
       "      <td>9.32</td>\n",
       "    </tr>\n",
       "    <tr>\n",
       "      <th>4</th>\n",
       "      <td>SAWANT SIDDHI NARESH NAMRATA</td>\n",
       "      <td>9.28</td>\n",
       "    </tr>\n",
       "    <tr>\n",
       "      <th>5</th>\n",
       "      <td>KHALATE NISHANT ANKUSH JAYASHRI</td>\n",
       "      <td>9.19</td>\n",
       "    </tr>\n",
       "    <tr>\n",
       "      <th>6</th>\n",
       "      <td>HARNE BHAVESH GOPAL NAYAN</td>\n",
       "      <td>9.17</td>\n",
       "    </tr>\n",
       "    <tr>\n",
       "      <th>7</th>\n",
       "      <td>PATHAN MINAZ DAWOOD SUMAYA</td>\n",
       "      <td>9.17</td>\n",
       "    </tr>\n",
       "    <tr>\n",
       "      <th>8</th>\n",
       "      <td>REEN AMANDEEP SINGH MOHINDER SIN</td>\n",
       "      <td>9.12</td>\n",
       "    </tr>\n",
       "    <tr>\n",
       "      <th>9</th>\n",
       "      <td>PRAJAPATI SUJIT RAMRISHI CHANDRA</td>\n",
       "      <td>9.10</td>\n",
       "    </tr>\n",
       "  </tbody>\n",
       "</table>\n",
       "</div>"
      ],
      "text/plain": [
       "                               name  CGPA\n",
       "0     TANDEL PRAPTI PRASHANT KAVITA  9.58\n",
       "1       GAIKWAD PRITI BHAGWAT GEETA  9.57\n",
       "2  HARMALKAR HRITIKA KAMLESH KANIKA  9.38\n",
       "3    MOHAKAR SIDDHI SANTOSH BHARATI  9.32\n",
       "4      SAWANT SIDDHI NARESH NAMRATA  9.28\n",
       "5   KHALATE NISHANT ANKUSH JAYASHRI  9.19\n",
       "6         HARNE BHAVESH GOPAL NAYAN  9.17\n",
       "7        PATHAN MINAZ DAWOOD SUMAYA  9.17\n",
       "8  REEN AMANDEEP SINGH MOHINDER SIN  9.12\n",
       "9  PRAJAPATI SUJIT RAMRISHI CHANDRA  9.10"
      ]
     },
     "metadata": {},
     "output_type": "display_data"
    },
    {
     "data": {
      "text/html": [
       "<h3>----------------------------------------------------------------------------------------------------</h3>"
      ],
      "text/plain": [
       "<IPython.core.display.HTML object>"
      ]
     },
     "metadata": {},
     "output_type": "display_data"
    },
    {
     "data": {
      "text/html": [
       "<h3>Lowest by CGPA</h3>"
      ],
      "text/plain": [
       "<IPython.core.display.HTML object>"
      ]
     },
     "metadata": {},
     "output_type": "display_data"
    },
    {
     "data": {
      "text/html": [
       "<div>\n",
       "<style scoped>\n",
       "    .dataframe tbody tr th:only-of-type {\n",
       "        vertical-align: middle;\n",
       "    }\n",
       "\n",
       "    .dataframe tbody tr th {\n",
       "        vertical-align: top;\n",
       "    }\n",
       "\n",
       "    .dataframe thead th {\n",
       "        text-align: right;\n",
       "    }\n",
       "</style>\n",
       "<table border=\"1\" class=\"dataframe\">\n",
       "  <thead>\n",
       "    <tr style=\"text-align: right;\">\n",
       "      <th></th>\n",
       "      <th>name</th>\n",
       "      <th>CGPA</th>\n",
       "    </tr>\n",
       "  </thead>\n",
       "  <tbody>\n",
       "    <tr>\n",
       "      <th>0</th>\n",
       "      <td>INGALE SHARDUL MILIND BHARATI</td>\n",
       "      <td>6.27</td>\n",
       "    </tr>\n",
       "    <tr>\n",
       "      <th>1</th>\n",
       "      <td>MAYEKAR SHWETA DEEPAK NIKITA</td>\n",
       "      <td>6.36</td>\n",
       "    </tr>\n",
       "    <tr>\n",
       "      <th>2</th>\n",
       "      <td>MASKE DEEPALI ANANDRAO SUSHMA</td>\n",
       "      <td>6.54</td>\n",
       "    </tr>\n",
       "    <tr>\n",
       "      <th>3</th>\n",
       "      <td>DHUMAL PRANAV SANJAY SUJATA</td>\n",
       "      <td>6.58</td>\n",
       "    </tr>\n",
       "    <tr>\n",
       "      <th>4</th>\n",
       "      <td>DHANBAHADUR R THAPA MUNAMAYA</td>\n",
       "      <td>6.58</td>\n",
       "    </tr>\n",
       "    <tr>\n",
       "      <th>5</th>\n",
       "      <td>RAWAL MIHIR TURKBAHADUR BOBBY</td>\n",
       "      <td>6.61</td>\n",
       "    </tr>\n",
       "    <tr>\n",
       "      <th>6</th>\n",
       "      <td>MANJREKAR HIMANSHU SUNIL SUCHITA</td>\n",
       "      <td>6.61</td>\n",
       "    </tr>\n",
       "    <tr>\n",
       "      <th>7</th>\n",
       "      <td>PHADTARE RUTUJA MAHADEV SUSHMA</td>\n",
       "      <td>6.63</td>\n",
       "    </tr>\n",
       "    <tr>\n",
       "      <th>8</th>\n",
       "      <td>UNAWANE HRITHIK PRAKASH LALITA</td>\n",
       "      <td>6.63</td>\n",
       "    </tr>\n",
       "    <tr>\n",
       "      <th>9</th>\n",
       "      <td>SHARMA GAIRE RAMPRASAD GANGARAM</td>\n",
       "      <td>6.63</td>\n",
       "    </tr>\n",
       "  </tbody>\n",
       "</table>\n",
       "</div>"
      ],
      "text/plain": [
       "                               name  CGPA\n",
       "0     INGALE SHARDUL MILIND BHARATI  6.27\n",
       "1      MAYEKAR SHWETA DEEPAK NIKITA  6.36\n",
       "2     MASKE DEEPALI ANANDRAO SUSHMA  6.54\n",
       "3       DHUMAL PRANAV SANJAY SUJATA  6.58\n",
       "4      DHANBAHADUR R THAPA MUNAMAYA  6.58\n",
       "5     RAWAL MIHIR TURKBAHADUR BOBBY  6.61\n",
       "6  MANJREKAR HIMANSHU SUNIL SUCHITA  6.61\n",
       "7    PHADTARE RUTUJA MAHADEV SUSHMA  6.63\n",
       "8    UNAWANE HRITHIK PRAKASH LALITA  6.63\n",
       "9   SHARMA GAIRE RAMPRASAD GANGARAM  6.63"
      ]
     },
     "metadata": {},
     "output_type": "display_data"
    }
   ],
   "source": [
    "from IPython.core.display import HTML\n",
    "\n",
    "sgp_to_sem_map = {\"SGP1\":'Semester 1', 'SGP2':'Semester 2',\n",
    "                  'SGP3': 'Semester 3', 'SGP4':'Semester 4',\n",
    "                  'SGP5':'Semester 5','SGP6':'Semester 6',\n",
    "                 'CGPA': 'Final CGPA'}\n",
    "\n",
    "ruparel_df = df[df['college_name'] == \"RUPAREL\"]\n",
    "res_cgpa = ruparel_df.sort_values(by='CGPA',ascending=False).head(10).reset_index()\n",
    "\n",
    "\n",
    "def display_top_student_by_col(col):\n",
    "    print_title(f\"Top 10 Students - {sgp_to_sem_map[col]}\")\n",
    "    res = ruparel_df.sort_values(by=col,ascending=False).head(10).reset_index().loc[:,['name',col]]\n",
    "    display(res.loc[:,['name',col]])\n",
    "\n",
    "for s in sgp_to_sem_map.keys():\n",
    "    display_top_student_by_col(s)\n",
    "    print_title('-'*100)\n",
    "    \n",
    "res_lowest_cgpa = ruparel_df.sort_values(by=\"CGPA\",ascending=True).head(10).reset_index().loc[:,['name','CGPA']]\n",
    "print_title(\"Lowest by CGPA\")\n",
    "display(res_lowest_cgpa)"
   ]
  },
  {
   "cell_type": "markdown",
   "metadata": {},
   "source": [
    "#### Visualization"
   ]
  },
  {
   "cell_type": "code",
   "execution_count": 392,
   "metadata": {},
   "outputs": [
    {
     "data": {
      "text/html": [
       "<h6>SGP1 = Semester 1 and so on...</h6>"
      ],
      "text/plain": [
       "<IPython.core.display.HTML object>"
      ]
     },
     "metadata": {},
     "output_type": "display_data"
    },
    {
     "data": {
      "text/html": [
       "<h3>----------------------------------------------------------------------------------------------------</h3>"
      ],
      "text/plain": [
       "<IPython.core.display.HTML object>"
      ]
     },
     "metadata": {},
     "output_type": "display_data"
    },
    {
     "data": {
      "text/html": [
       "<h3>Mean GPA accross all Sems</h3>"
      ],
      "text/plain": [
       "<IPython.core.display.HTML object>"
      ]
     },
     "metadata": {},
     "output_type": "display_data"
    },
    {
     "data": {
      "text/html": [
       "<div>\n",
       "<style scoped>\n",
       "    .dataframe tbody tr th:only-of-type {\n",
       "        vertical-align: middle;\n",
       "    }\n",
       "\n",
       "    .dataframe tbody tr th {\n",
       "        vertical-align: top;\n",
       "    }\n",
       "\n",
       "    .dataframe thead th {\n",
       "        text-align: right;\n",
       "    }\n",
       "</style>\n",
       "<table border=\"1\" class=\"dataframe\">\n",
       "  <thead>\n",
       "    <tr style=\"text-align: right;\">\n",
       "      <th></th>\n",
       "      <th>Semester</th>\n",
       "      <th>Means</th>\n",
       "    </tr>\n",
       "  </thead>\n",
       "  <tbody>\n",
       "    <tr>\n",
       "      <th>0</th>\n",
       "      <td>SGP1</td>\n",
       "      <td>7.606061</td>\n",
       "    </tr>\n",
       "    <tr>\n",
       "      <th>1</th>\n",
       "      <td>SGP2</td>\n",
       "      <td>7.497475</td>\n",
       "    </tr>\n",
       "    <tr>\n",
       "      <th>2</th>\n",
       "      <td>SGP3</td>\n",
       "      <td>7.881000</td>\n",
       "    </tr>\n",
       "    <tr>\n",
       "      <th>3</th>\n",
       "      <td>SGP5</td>\n",
       "      <td>8.024000</td>\n",
       "    </tr>\n",
       "    <tr>\n",
       "      <th>4</th>\n",
       "      <td>SGP6</td>\n",
       "      <td>8.882418</td>\n",
       "    </tr>\n",
       "    <tr>\n",
       "      <th>5</th>\n",
       "      <td>SGP4</td>\n",
       "      <td>8.015000</td>\n",
       "    </tr>\n",
       "    <tr>\n",
       "      <th>6</th>\n",
       "      <td>CGPA</td>\n",
       "      <td>8.077978</td>\n",
       "    </tr>\n",
       "  </tbody>\n",
       "</table>\n",
       "</div>"
      ],
      "text/plain": [
       "  Semester     Means\n",
       "0     SGP1  7.606061\n",
       "1     SGP2  7.497475\n",
       "2     SGP3  7.881000\n",
       "3     SGP5  8.024000\n",
       "4     SGP6  8.882418\n",
       "5     SGP4  8.015000\n",
       "6     CGPA  8.077978"
      ]
     },
     "metadata": {},
     "output_type": "display_data"
    },
    {
     "data": {
      "text/html": [
       "<h3>----------------------------------------------------------------------------------------------------</h3>"
      ],
      "text/plain": [
       "<IPython.core.display.HTML object>"
      ]
     },
     "metadata": {},
     "output_type": "display_data"
    },
    {
     "data": {
      "text/html": [
       "<h3>Box Plot of Variation in GPA's</h3>"
      ],
      "text/plain": [
       "<IPython.core.display.HTML object>"
      ]
     },
     "metadata": {},
     "output_type": "display_data"
    },
    {
     "data": {
      "image/png": "[encoded data removed]",
      "text/plain": [
       "<Figure size 504x504 with 1 Axes>"
      ]
     },
     "metadata": {
      "needs_background": "light"
     },
     "output_type": "display_data"
    }
   ],
   "source": [
    "means = ruparel_df.mean()\n",
    "df_rmeans = pd.DataFrame({'Semester':means.index,'Means':means.values})\n",
    "all_gpas_metled = pd.melt(ruparel_df.iloc[:,[2,3,4,5,6]],var_name=\"Semester\",value_name=\"GPA\")\n",
    "\n",
    "print_caption('SGP1 = Semester 1 and so on...')\n",
    "print_seperator()\n",
    "print_title(\"Mean GPA accross all Sems\")\n",
    "display(df_rmeans)\n",
    "\n",
    "print_seperator()\n",
    "\n",
    "print_title(\"Box Plot of Variation in GPA's\")\n",
    "_ = sns.catplot(x='Semester',y='GPA',data=all_gpas_metled,kind='box',height=7)"
   ]
  },
  {
   "cell_type": "code",
   "execution_count": 393,
   "metadata": {},
   "outputs": [
    {
     "data": {
      "text/html": [
       "<h3>Number of Records without GPA (Indicating Failed or KT)</h3>"
      ],
      "text/plain": [
       "<IPython.core.display.HTML object>"
      ]
     },
     "metadata": {},
     "output_type": "display_data"
    },
    {
     "data": {
      "text/plain": [
       "SGP1     1\n",
       "SGP2     1\n",
       "SGP3     0\n",
       "SGP4     0\n",
       "SGP5     0\n",
       "SGP6     9\n",
       "CGPA    11\n",
       "dtype: int64"
      ]
     },
     "metadata": {},
     "output_type": "display_data"
    },
    {
     "data": {
      "text/plain": [
       "<matplotlib.axes._subplots.AxesSubplot at 0x2cb41cf0>"
      ]
     },
     "execution_count": 393,
     "metadata": {},
     "output_type": "execute_result"
    },
    {
     "data": {
      "image/png": "[encoded data removed]",
      "text/plain": [
       "<Figure size 432x288 with 1 Axes>"
      ]
     },
     "metadata": {
      "needs_background": "light"
     },
     "output_type": "display_data"
    }
   ],
   "source": [
    "print_title(\"Number of Records without GPA (Indicating Failed or KT)\")\n",
    "\n",
    "n_fail = dict()\n",
    "for sem in sgp_to_sem_map.keys():\n",
    "    n_fail[sem] = 100 - ruparel_df[sem].count()\n",
    "series_fail = pd.Series(n_fail)\n",
    "display(series_fail)\n",
    "sns.barplot(series_fail.index,series_fail.values)\n"
   ]
  },
  {
   "cell_type": "markdown",
   "metadata": {},
   "source": [
    "### Final"
   ]
  },
  {
   "cell_type": "code",
   "execution_count": 416,
   "metadata": {
    "scrolled": false
   },
   "outputs": [
    {
     "data": {
      "text/html": [
       "<h3>Table of : Top 20 Colleges with highest Student Count</h3>"
      ],
      "text/plain": [
       "<IPython.core.display.HTML object>"
      ]
     },
     "metadata": {},
     "output_type": "display_data"
    },
    {
     "data": {
      "text/html": [
       "<style  type=\"text/css\" >\n",
       "    #T_2bc03ee6_211a_11eb_b8c0_f0038c38c6e0row5_col0 {\n",
       "            background:  lightgreen;\n",
       "        }</style><table id=\"T_2bc03ee6_211a_11eb_b8c0_f0038c38c6e0\" ><thead>    <tr>        <th class=\"blank level0\" ></th>        <th class=\"col_heading level0 col0\" >College Name</th>        <th class=\"col_heading level0 col1\" >Student Count</th>    </tr></thead><tbody>\n",
       "                <tr>\n",
       "                        <th id=\"T_2bc03ee6_211a_11eb_b8c0_f0038c38c6e0level0_row0\" class=\"row_heading level0 row0\" >0</th>\n",
       "                        <td id=\"T_2bc03ee6_211a_11eb_b8c0_f0038c38c6e0row0_col0\" class=\"data row0 col0\" >THAKUR</td>\n",
       "                        <td id=\"T_2bc03ee6_211a_11eb_b8c0_f0038c38c6e0row0_col1\" class=\"data row0 col1\" >159</td>\n",
       "            </tr>\n",
       "            <tr>\n",
       "                        <th id=\"T_2bc03ee6_211a_11eb_b8c0_f0038c38c6e0level0_row1\" class=\"row_heading level0 row1\" >1</th>\n",
       "                        <td id=\"T_2bc03ee6_211a_11eb_b8c0_f0038c38c6e0row1_col0\" class=\"data row1 col0\" >S.K.SOMAIYA</td>\n",
       "                        <td id=\"T_2bc03ee6_211a_11eb_b8c0_f0038c38c6e0row1_col1\" class=\"data row1 col1\" >117</td>\n",
       "            </tr>\n",
       "            <tr>\n",
       "                        <th id=\"T_2bc03ee6_211a_11eb_b8c0_f0038c38c6e0level0_row2\" class=\"row_heading level0 row2\" >2</th>\n",
       "                        <td id=\"T_2bc03ee6_211a_11eb_b8c0_f0038c38c6e0row2_col0\" class=\"data row2 col0\" >MULUND</td>\n",
       "                        <td id=\"T_2bc03ee6_211a_11eb_b8c0_f0038c38c6e0row2_col1\" class=\"data row2 col1\" >115</td>\n",
       "            </tr>\n",
       "            <tr>\n",
       "                        <th id=\"T_2bc03ee6_211a_11eb_b8c0_f0038c38c6e0level0_row3\" class=\"row_heading level0 row3\" >3</th>\n",
       "                        <td id=\"T_2bc03ee6_211a_11eb_b8c0_f0038c38c6e0row3_col0\" class=\"data row3 col0\" >VIVA</td>\n",
       "                        <td id=\"T_2bc03ee6_211a_11eb_b8c0_f0038c38c6e0row3_col1\" class=\"data row3 col1\" >105</td>\n",
       "            </tr>\n",
       "            <tr>\n",
       "                        <th id=\"T_2bc03ee6_211a_11eb_b8c0_f0038c38c6e0level0_row4\" class=\"row_heading level0 row4\" >4</th>\n",
       "                        <td id=\"T_2bc03ee6_211a_11eb_b8c0_f0038c38c6e0row4_col0\" class=\"data row4 col0\" >CHM</td>\n",
       "                        <td id=\"T_2bc03ee6_211a_11eb_b8c0_f0038c38c6e0row4_col1\" class=\"data row4 col1\" >102</td>\n",
       "            </tr>\n",
       "            <tr>\n",
       "                        <th id=\"T_2bc03ee6_211a_11eb_b8c0_f0038c38c6e0level0_row5\" class=\"row_heading level0 row5\" >5</th>\n",
       "                        <td id=\"T_2bc03ee6_211a_11eb_b8c0_f0038c38c6e0row5_col0\" class=\"data row5 col0\" >RUPAREL</td>\n",
       "                        <td id=\"T_2bc03ee6_211a_11eb_b8c0_f0038c38c6e0row5_col1\" class=\"data row5 col1\" >100</td>\n",
       "            </tr>\n",
       "            <tr>\n",
       "                        <th id=\"T_2bc03ee6_211a_11eb_b8c0_f0038c38c6e0level0_row6\" class=\"row_heading level0 row6\" >6</th>\n",
       "                        <td id=\"T_2bc03ee6_211a_11eb_b8c0_f0038c38c6e0row6_col0\" class=\"data row6 col0\" >DNYANSADHANA</td>\n",
       "                        <td id=\"T_2bc03ee6_211a_11eb_b8c0_f0038c38c6e0row6_col1\" class=\"data row6 col1\" >93</td>\n",
       "            </tr>\n",
       "            <tr>\n",
       "                        <th id=\"T_2bc03ee6_211a_11eb_b8c0_f0038c38c6e0level0_row7\" class=\"row_heading level0 row7\" >7</th>\n",
       "                        <td id=\"T_2bc03ee6_211a_11eb_b8c0_f0038c38c6e0row7_col0\" class=\"data row7 col0\" >KIRTI</td>\n",
       "                        <td id=\"T_2bc03ee6_211a_11eb_b8c0_f0038c38c6e0row7_col1\" class=\"data row7 col1\" >83</td>\n",
       "            </tr>\n",
       "            <tr>\n",
       "                        <th id=\"T_2bc03ee6_211a_11eb_b8c0_f0038c38c6e0level0_row8\" class=\"row_heading level0 row8\" >8</th>\n",
       "                        <td id=\"T_2bc03ee6_211a_11eb_b8c0_f0038c38c6e0row8_col0\" class=\"data row8 col0\" >MODEL</td>\n",
       "                        <td id=\"T_2bc03ee6_211a_11eb_b8c0_f0038c38c6e0row8_col1\" class=\"data row8 col1\" >82</td>\n",
       "            </tr>\n",
       "            <tr>\n",
       "                        <th id=\"T_2bc03ee6_211a_11eb_b8c0_f0038c38c6e0level0_row9\" class=\"row_heading level0 row9\" >9</th>\n",
       "                        <td id=\"T_2bc03ee6_211a_11eb_b8c0_f0038c38c6e0row9_col0\" class=\"data row9 col0\" >K.C.</td>\n",
       "                        <td id=\"T_2bc03ee6_211a_11eb_b8c0_f0038c38c6e0row9_col1\" class=\"data row9 col1\" >65</td>\n",
       "            </tr>\n",
       "            <tr>\n",
       "                        <th id=\"T_2bc03ee6_211a_11eb_b8c0_f0038c38c6e0level0_row10\" class=\"row_heading level0 row10\" >10</th>\n",
       "                        <td id=\"T_2bc03ee6_211a_11eb_b8c0_f0038c38c6e0row10_col0\" class=\"data row10 col0\" >SUSHILADEVI</td>\n",
       "                        <td id=\"T_2bc03ee6_211a_11eb_b8c0_f0038c38c6e0row10_col1\" class=\"data row10 col1\" >63</td>\n",
       "            </tr>\n",
       "            <tr>\n",
       "                        <th id=\"T_2bc03ee6_211a_11eb_b8c0_f0038c38c6e0level0_row11\" class=\"row_heading level0 row11\" >11</th>\n",
       "                        <td id=\"T_2bc03ee6_211a_11eb_b8c0_f0038c38c6e0row11_col0\" class=\"data row11 col0\" >MENON</td>\n",
       "                        <td id=\"T_2bc03ee6_211a_11eb_b8c0_f0038c38c6e0row11_col1\" class=\"data row11 col1\" >62</td>\n",
       "            </tr>\n",
       "            <tr>\n",
       "                        <th id=\"T_2bc03ee6_211a_11eb_b8c0_f0038c38c6e0level0_row12\" class=\"row_heading level0 row12\" >12</th>\n",
       "                        <td id=\"T_2bc03ee6_211a_11eb_b8c0_f0038c38c6e0row12_col0\" class=\"data row12 col0\" >NIRMALA</td>\n",
       "                        <td id=\"T_2bc03ee6_211a_11eb_b8c0_f0038c38c6e0row12_col1\" class=\"data row12 col1\" >61</td>\n",
       "            </tr>\n",
       "            <tr>\n",
       "                        <th id=\"T_2bc03ee6_211a_11eb_b8c0_f0038c38c6e0level0_row13\" class=\"row_heading level0 row13\" >13</th>\n",
       "                        <td id=\"T_2bc03ee6_211a_11eb_b8c0_f0038c38c6e0row13_col0\" class=\"data row13 col0\" >ACHARYA/MARATHE</td>\n",
       "                        <td id=\"T_2bc03ee6_211a_11eb_b8c0_f0038c38c6e0row13_col1\" class=\"data row13 col1\" >59</td>\n",
       "            </tr>\n",
       "            <tr>\n",
       "                        <th id=\"T_2bc03ee6_211a_11eb_b8c0_f0038c38c6e0level0_row14\" class=\"row_heading level0 row14\" >14</th>\n",
       "                        <td id=\"T_2bc03ee6_211a_11eb_b8c0_f0038c38c6e0row14_col0\" class=\"data row14 col0\" >RIZVI-Bandra</td>\n",
       "                        <td id=\"T_2bc03ee6_211a_11eb_b8c0_f0038c38c6e0row14_col1\" class=\"data row14 col1\" >57</td>\n",
       "            </tr>\n",
       "            <tr>\n",
       "                        <th id=\"T_2bc03ee6_211a_11eb_b8c0_f0038c38c6e0level0_row15\" class=\"row_heading level0 row15\" >15</th>\n",
       "                        <td id=\"T_2bc03ee6_211a_11eb_b8c0_f0038c38c6e0row15_col0\" class=\"data row15 col0\" >B.N.N.</td>\n",
       "                        <td id=\"T_2bc03ee6_211a_11eb_b8c0_f0038c38c6e0row15_col1\" class=\"data row15 col1\" >56</td>\n",
       "            </tr>\n",
       "            <tr>\n",
       "                        <th id=\"T_2bc03ee6_211a_11eb_b8c0_f0038c38c6e0level0_row16\" class=\"row_heading level0 row16\" >16</th>\n",
       "                        <td id=\"T_2bc03ee6_211a_11eb_b8c0_f0038c38c6e0row16_col0\" class=\"data row16 col0\" >K.M.AGRAWAL-KAL</td>\n",
       "                        <td id=\"T_2bc03ee6_211a_11eb_b8c0_f0038c38c6e0row16_col1\" class=\"data row16 col1\" >56</td>\n",
       "            </tr>\n",
       "            <tr>\n",
       "                        <th id=\"T_2bc03ee6_211a_11eb_b8c0_f0038c38c6e0level0_row17\" class=\"row_heading level0 row17\" >17</th>\n",
       "                        <td id=\"T_2bc03ee6_211a_11eb_b8c0_f0038c38c6e0row17_col0\" class=\"data row17 col0\" >MD</td>\n",
       "                        <td id=\"T_2bc03ee6_211a_11eb_b8c0_f0038c38c6e0row17_col1\" class=\"data row17 col1\" >55</td>\n",
       "            </tr>\n",
       "            <tr>\n",
       "                        <th id=\"T_2bc03ee6_211a_11eb_b8c0_f0038c38c6e0level0_row18\" class=\"row_heading level0 row18\" >18</th>\n",
       "                        <td id=\"T_2bc03ee6_211a_11eb_b8c0_f0038c38c6e0row18_col0\" class=\"data row18 col0\" >BHAVANS</td>\n",
       "                        <td id=\"T_2bc03ee6_211a_11eb_b8c0_f0038c38c6e0row18_col1\" class=\"data row18 col1\" >55</td>\n",
       "            </tr>\n",
       "            <tr>\n",
       "                        <th id=\"T_2bc03ee6_211a_11eb_b8c0_f0038c38c6e0level0_row19\" class=\"row_heading level0 row19\" >19</th>\n",
       "                        <td id=\"T_2bc03ee6_211a_11eb_b8c0_f0038c38c6e0row19_col0\" class=\"data row19 col0\" >MAHARASHTRA</td>\n",
       "                        <td id=\"T_2bc03ee6_211a_11eb_b8c0_f0038c38c6e0row19_col1\" class=\"data row19 col1\" >54</td>\n",
       "            </tr>\n",
       "    </tbody></table>"
      ],
      "text/plain": [
       "<pandas.io.formats.style.Styler at 0x2cca3e70>"
      ]
     },
     "execution_count": 416,
     "metadata": {},
     "output_type": "execute_result"
    }
   ],
   "source": [
    "print_title(\"Table of : Top 20 Colleges with highest Student Count\")\n",
    "pd.set_option('display.max_rows', 100)\n",
    "_x = df.groupby(by='college_name')\n",
    "# Remove colleges with less then 10 students\n",
    "colleges_df = _x.filter(lambda x: len(x) > 10)\n",
    "all_colleges_count = colleges_df.groupby(by='college_name')['college_name'].count().sort_values(ascending=False)\n",
    "all_colleges_count = pd.DataFrame({\"College Name\": all_colleges_count.index,'Student Count': all_colleges_count.values})\n",
    "highlight_value(all_colleges_count.head(20))"
   ]
  },
  {
   "cell_type": "code",
   "execution_count": 321,
   "metadata": {
    "scrolled": false
   },
   "outputs": [
    {
     "data": {
      "text/html": [
       "<h3>Top 100 Students(by CGPA) Categorized by College</h3>"
      ],
      "text/plain": [
       "<IPython.core.display.HTML object>"
      ]
     },
     "metadata": {},
     "output_type": "display_data"
    },
    {
     "data": {
      "image/png": "[encoded data removed]",
      "text/plain": [
       "<Figure size 720x720 with 1 Axes>"
      ]
     },
     "metadata": {
      "needs_background": "light"
     },
     "output_type": "display_data"
    }
   ],
   "source": [
    "print_title(\"Top 100 Students(by CGPA) Categorized by College\")\n",
    "top_colleges_by_cgpa = colleges_df.sort_values(by='CGPA',ascending=False).head(100).reset_index()\n",
    "ts = top_colleges_by_cgpa.groupby(by='college_name').college_name.count().sort_values()\n",
    "ts = pd.DataFrame({'collage_name':ts.index,'Number of students':ts.values})\n",
    "g = sns.catplot(y='collage_name',x='Number of students',data=ts,height=10,orient='h',kind='bar')"
   ]
  },
  {
   "cell_type": "code",
   "execution_count": 306,
   "metadata": {},
   "outputs": [
    {
     "data": {
      "text/html": [
       "<h3>Ruparel Students in Top 100</h3>"
      ],
      "text/plain": [
       "<IPython.core.display.HTML object>"
      ]
     },
     "metadata": {},
     "output_type": "display_data"
    },
    {
     "data": {
      "text/html": [
       "<div>\n",
       "<style scoped>\n",
       "    .dataframe tbody tr th:only-of-type {\n",
       "        vertical-align: middle;\n",
       "    }\n",
       "\n",
       "    .dataframe tbody tr th {\n",
       "        vertical-align: top;\n",
       "    }\n",
       "\n",
       "    .dataframe thead th {\n",
       "        text-align: right;\n",
       "    }\n",
       "</style>\n",
       "<table border=\"1\" class=\"dataframe\">\n",
       "  <thead>\n",
       "    <tr style=\"text-align: right;\">\n",
       "      <th></th>\n",
       "      <th>index</th>\n",
       "      <th>name</th>\n",
       "      <th>college_name</th>\n",
       "      <th>SGP1</th>\n",
       "      <th>SGP2</th>\n",
       "      <th>SGP3</th>\n",
       "      <th>SGP5</th>\n",
       "      <th>SGP6</th>\n",
       "      <th>SGP4</th>\n",
       "      <th>CGPA</th>\n",
       "    </tr>\n",
       "  </thead>\n",
       "  <tbody>\n",
       "    <tr>\n",
       "      <th>50</th>\n",
       "      <td>2446</td>\n",
       "      <td>TANDEL PRAPTI PRASHANT KAVITA</td>\n",
       "      <td>RUPAREL</td>\n",
       "      <td>9.2</td>\n",
       "      <td>9.6</td>\n",
       "      <td>9.9</td>\n",
       "      <td>9.50</td>\n",
       "      <td>9.6</td>\n",
       "      <td>9.70</td>\n",
       "      <td>9.58</td>\n",
       "    </tr>\n",
       "    <tr>\n",
       "      <th>51</th>\n",
       "      <td>2375</td>\n",
       "      <td>GAIKWAD PRITI BHAGWAT GEETA</td>\n",
       "      <td>RUPAREL</td>\n",
       "      <td>9.6</td>\n",
       "      <td>9.4</td>\n",
       "      <td>9.9</td>\n",
       "      <td>9.35</td>\n",
       "      <td>9.3</td>\n",
       "      <td>9.85</td>\n",
       "      <td>9.57</td>\n",
       "    </tr>\n",
       "  </tbody>\n",
       "</table>\n",
       "</div>"
      ],
      "text/plain": [
       "    index                           name college_name  SGP1  SGP2  SGP3  SGP5  SGP6  SGP4  CGPA\n",
       "50   2446  TANDEL PRAPTI PRASHANT KAVITA      RUPAREL   9.2   9.6   9.9  9.50   9.6  9.70  9.58\n",
       "51   2375    GAIKWAD PRITI BHAGWAT GEETA      RUPAREL   9.6   9.4   9.9  9.35   9.3  9.85  9.57"
      ]
     },
     "execution_count": 306,
     "metadata": {},
     "output_type": "execute_result"
    }
   ],
   "source": [
    "print_title(\"Ruparel Students in Top 100\")\n",
    "top_colleges_by_cgpa[top_colleges_by_cgpa['college_name'] == 'RUPAREL']"
   ]
  },
  {
   "cell_type": "code",
   "execution_count": 324,
   "metadata": {},
   "outputs": [
    {
     "data": {
      "text/html": [
       "<h3>Lowest 100 Students(by CGPA) Categorized by College</h3>"
      ],
      "text/plain": [
       "<IPython.core.display.HTML object>"
      ]
     },
     "metadata": {},
     "output_type": "display_data"
    },
    {
     "data": {
      "image/png": "[encoded data removed]",
      "text/plain": [
       "<Figure size 720x720 with 1 Axes>"
      ]
     },
     "metadata": {
      "needs_background": "light"
     },
     "output_type": "display_data"
    }
   ],
   "source": [
    "print_title(\"Lowest 100 Students(by CGPA) Categorized by College\")\n",
    "top_colleges_by_cgpa = colleges_df.sort_values(by='CGPA',ascending=True).head(100).reset_index()\n",
    "ts = top_colleges_by_cgpa.groupby(by='college_name').college_name.count().sort_values()\n",
    "ts = pd.DataFrame({'collage_name':ts.index,'Number of students':ts.values})\n",
    "g = sns.catplot(y='collage_name',x='Number of students',data=ts,height=10,orient='h',kind='bar')"
   ]
  },
  {
   "cell_type": "code",
   "execution_count": 388,
   "metadata": {
    "scrolled": false
   },
   "outputs": [
    {
     "data": {
      "text/html": [
       "<h3>Top 15 Colleges ranked by MEAN CGPA</h3>"
      ],
      "text/plain": [
       "<IPython.core.display.HTML object>"
      ]
     },
     "metadata": {},
     "output_type": "display_data"
    },
    {
     "data": {
      "text/html": [
       "<style  type=\"text/css\" >\n",
       "    #T_74242e74_2103_11eb_a374_f0038c38c6e0row10_col0 {\n",
       "            background:  lightgreen;\n",
       "        }</style><table id=\"T_74242e74_2103_11eb_a374_f0038c38c6e0\" ><thead>    <tr>        <th class=\"blank level0\" ></th>        <th class=\"col_heading level0 col0\" >college_name</th>        <th class=\"col_heading level0 col1\" >CGPA</th>    </tr></thead><tbody>\n",
       "                <tr>\n",
       "                        <th id=\"T_74242e74_2103_11eb_a374_f0038c38c6e0level0_row0\" class=\"row_heading level0 row0\" >0</th>\n",
       "                        <td id=\"T_74242e74_2103_11eb_a374_f0038c38c6e0row0_col0\" class=\"data row0 col0\" >K.C.</td>\n",
       "                        <td id=\"T_74242e74_2103_11eb_a374_f0038c38c6e0row0_col1\" class=\"data row0 col1\" >8.736250</td>\n",
       "            </tr>\n",
       "            <tr>\n",
       "                        <th id=\"T_74242e74_2103_11eb_a374_f0038c38c6e0level0_row1\" class=\"row_heading level0 row1\" >1</th>\n",
       "                        <td id=\"T_74242e74_2103_11eb_a374_f0038c38c6e0row1_col0\" class=\"data row1 col0\" >ROYAL - KASHMIR</td>\n",
       "                        <td id=\"T_74242e74_2103_11eb_a374_f0038c38c6e0row1_col1\" class=\"data row1 col1\" >8.457447</td>\n",
       "            </tr>\n",
       "            <tr>\n",
       "                        <th id=\"T_74242e74_2103_11eb_a374_f0038c38c6e0level0_row2\" class=\"row_heading level0 row2\" >2</th>\n",
       "                        <td id=\"T_74242e74_2103_11eb_a374_f0038c38c6e0row2_col0\" class=\"data row2 col0\" >SIES-Nerul</td>\n",
       "                        <td id=\"T_74242e74_2103_11eb_a374_f0038c38c6e0row2_col1\" class=\"data row2 col1\" >8.279592</td>\n",
       "            </tr>\n",
       "            <tr>\n",
       "                        <th id=\"T_74242e74_2103_11eb_a374_f0038c38c6e0level0_row3\" class=\"row_heading level0 row3\" >3</th>\n",
       "                        <td id=\"T_74242e74_2103_11eb_a374_f0038c38c6e0row3_col0\" class=\"data row3 col0\" >NALANDA</td>\n",
       "                        <td id=\"T_74242e74_2103_11eb_a374_f0038c38c6e0row3_col1\" class=\"data row3 col1\" >8.276667</td>\n",
       "            </tr>\n",
       "            <tr>\n",
       "                        <th id=\"T_74242e74_2103_11eb_a374_f0038c38c6e0level0_row4\" class=\"row_heading level0 row4\" >4</th>\n",
       "                        <td id=\"T_74242e74_2103_11eb_a374_f0038c38c6e0row4_col0\" class=\"data row4 col0\" >VIVEKANAND</td>\n",
       "                        <td id=\"T_74242e74_2103_11eb_a374_f0038c38c6e0row4_col1\" class=\"data row4 col1\" >8.272128</td>\n",
       "            </tr>\n",
       "            <tr>\n",
       "                        <th id=\"T_74242e74_2103_11eb_a374_f0038c38c6e0level0_row5\" class=\"row_heading level0 row5\" >5</th>\n",
       "                        <td id=\"T_74242e74_2103_11eb_a374_f0038c38c6e0row5_col0\" class=\"data row5 col0\" >AMBEDKAR- MAHAD</td>\n",
       "                        <td id=\"T_74242e74_2103_11eb_a374_f0038c38c6e0row5_col1\" class=\"data row5 col1\" >8.198182</td>\n",
       "            </tr>\n",
       "            <tr>\n",
       "                        <th id=\"T_74242e74_2103_11eb_a374_f0038c38c6e0level0_row6\" class=\"row_heading level0 row6\" >6</th>\n",
       "                        <td id=\"T_74242e74_2103_11eb_a374_f0038c38c6e0row6_col0\" class=\"data row6 col0\" >DEVGAD</td>\n",
       "                        <td id=\"T_74242e74_2103_11eb_a374_f0038c38c6e0row6_col1\" class=\"data row6 col1\" >8.193889</td>\n",
       "            </tr>\n",
       "            <tr>\n",
       "                        <th id=\"T_74242e74_2103_11eb_a374_f0038c38c6e0level0_row7\" class=\"row_heading level0 row7\" >7</th>\n",
       "                        <td id=\"T_74242e74_2103_11eb_a374_f0038c38c6e0row7_col0\" class=\"data row7 col0\" >B.N.BANDODKAR</td>\n",
       "                        <td id=\"T_74242e74_2103_11eb_a374_f0038c38c6e0row7_col1\" class=\"data row7 col1\" >8.124510</td>\n",
       "            </tr>\n",
       "            <tr>\n",
       "                        <th id=\"T_74242e74_2103_11eb_a374_f0038c38c6e0level0_row8\" class=\"row_heading level0 row8\" >8</th>\n",
       "                        <td id=\"T_74242e74_2103_11eb_a374_f0038c38c6e0row8_col0\" class=\"data row8 col0\" >ASMITA-</td>\n",
       "                        <td id=\"T_74242e74_2103_11eb_a374_f0038c38c6e0row8_col1\" class=\"data row8 col1\" >8.110000</td>\n",
       "            </tr>\n",
       "            <tr>\n",
       "                        <th id=\"T_74242e74_2103_11eb_a374_f0038c38c6e0level0_row9\" class=\"row_heading level0 row9\" >9</th>\n",
       "                        <td id=\"T_74242e74_2103_11eb_a374_f0038c38c6e0row9_col0\" class=\"data row9 col0\" >SANT</td>\n",
       "                        <td id=\"T_74242e74_2103_11eb_a374_f0038c38c6e0row9_col1\" class=\"data row9 col1\" >8.090345</td>\n",
       "            </tr>\n",
       "            <tr>\n",
       "                        <th id=\"T_74242e74_2103_11eb_a374_f0038c38c6e0level0_row10\" class=\"row_heading level0 row10\" >10</th>\n",
       "                        <td id=\"T_74242e74_2103_11eb_a374_f0038c38c6e0row10_col0\" class=\"data row10 col0\" >RUPAREL</td>\n",
       "                        <td id=\"T_74242e74_2103_11eb_a374_f0038c38c6e0row10_col1\" class=\"data row10 col1\" >8.077978</td>\n",
       "            </tr>\n",
       "            <tr>\n",
       "                        <th id=\"T_74242e74_2103_11eb_a374_f0038c38c6e0level0_row11\" class=\"row_heading level0 row11\" >11</th>\n",
       "                        <td id=\"T_74242e74_2103_11eb_a374_f0038c38c6e0row11_col0\" class=\"data row11 col0\" >N.B.MEHTA</td>\n",
       "                        <td id=\"T_74242e74_2103_11eb_a374_f0038c38c6e0row11_col1\" class=\"data row11 col1\" >8.013750</td>\n",
       "            </tr>\n",
       "            <tr>\n",
       "                        <th id=\"T_74242e74_2103_11eb_a374_f0038c38c6e0level0_row12\" class=\"row_heading level0 row12\" >12</th>\n",
       "                        <td id=\"T_74242e74_2103_11eb_a374_f0038c38c6e0row12_col0\" class=\"data row12 col0\" >B.N.N.</td>\n",
       "                        <td id=\"T_74242e74_2103_11eb_a374_f0038c38c6e0row12_col1\" class=\"data row12 col1\" >8.012041</td>\n",
       "            </tr>\n",
       "            <tr>\n",
       "                        <th id=\"T_74242e74_2103_11eb_a374_f0038c38c6e0level0_row13\" class=\"row_heading level0 row13\" >13</th>\n",
       "                        <td id=\"T_74242e74_2103_11eb_a374_f0038c38c6e0row13_col0\" class=\"data row13 col0\" >MULUND</td>\n",
       "                        <td id=\"T_74242e74_2103_11eb_a374_f0038c38c6e0row13_col1\" class=\"data row13 col1\" >8.003913</td>\n",
       "            </tr>\n",
       "            <tr>\n",
       "                        <th id=\"T_74242e74_2103_11eb_a374_f0038c38c6e0level0_row14\" class=\"row_heading level0 row14\" >14</th>\n",
       "                        <td id=\"T_74242e74_2103_11eb_a374_f0038c38c6e0row14_col0\" class=\"data row14 col0\" >KANKAVLI</td>\n",
       "                        <td id=\"T_74242e74_2103_11eb_a374_f0038c38c6e0row14_col1\" class=\"data row14 col1\" >7.981875</td>\n",
       "            </tr>\n",
       "    </tbody></table>"
      ],
      "text/plain": [
       "<pandas.io.formats.style.Styler at 0x27f7f810>"
      ]
     },
     "metadata": {},
     "output_type": "display_data"
    },
    {
     "data": {
      "image/png": "[encoded data removed]",
      "text/plain": [
       "<Figure size 720x720 with 1 Axes>"
      ]
     },
     "metadata": {
      "needs_background": "light"
     },
     "output_type": "display_data"
    }
   ],
   "source": [
    "print_title(\"Top 15 Colleges ranked by MEAN CGPA\")\n",
    "# top_colleges_by_cgpa = colleges_df.sort_values(by='CGPA',ascending=True).head(100).reset_index()\n",
    "\n",
    "# ts = top_colleges_by_cgpa.groupby(by='college_name').college_name.count().sort_values()\n",
    "# ts = pd.DataFrame({'collage_name':ts.index,'Number of students':ts.values})\n",
    "\n",
    "\n",
    "ccm_series =colleges_df.groupby(by='college_name').mean()['CGPA'].sort_values(ascending=False).head(15)\n",
    "ccm_df = ccm_series.to_frame().reset_index()\n",
    "styled_ccm_df = highlight_value(ccm_df)\n",
    "display(styled_ccm_df)\n",
    "\n",
    "\n",
    "g = sns.catplot(y='college_name',x='CGPA',data=ccm_df,height=10,kind='point')"
   ]
  },
  {
   "cell_type": "code",
   "execution_count": 389,
   "metadata": {
    "scrolled": false
   },
   "outputs": [
    {
     "data": {
      "text/html": [
       "<h3>Top 15 Colleges ranked by MEDIAN CGPA</h3>"
      ],
      "text/plain": [
       "<IPython.core.display.HTML object>"
      ]
     },
     "metadata": {},
     "output_type": "display_data"
    },
    {
     "data": {
      "text/html": [
       "<style  type=\"text/css\" >\n",
       "    #T_76683da4_2103_11eb_8036_f0038c38c6e0row9_col0 {\n",
       "            background:  lightgreen;\n",
       "        }</style><table id=\"T_76683da4_2103_11eb_8036_f0038c38c6e0\" ><thead>    <tr>        <th class=\"blank level0\" ></th>        <th class=\"col_heading level0 col0\" >college_name</th>        <th class=\"col_heading level0 col1\" >CGPA</th>    </tr></thead><tbody>\n",
       "                <tr>\n",
       "                        <th id=\"T_76683da4_2103_11eb_8036_f0038c38c6e0level0_row0\" class=\"row_heading level0 row0\" >0</th>\n",
       "                        <td id=\"T_76683da4_2103_11eb_8036_f0038c38c6e0row0_col0\" class=\"data row0 col0\" >K.C.</td>\n",
       "                        <td id=\"T_76683da4_2103_11eb_8036_f0038c38c6e0row0_col1\" class=\"data row0 col1\" >8.910000</td>\n",
       "            </tr>\n",
       "            <tr>\n",
       "                        <th id=\"T_76683da4_2103_11eb_8036_f0038c38c6e0level0_row1\" class=\"row_heading level0 row1\" >1</th>\n",
       "                        <td id=\"T_76683da4_2103_11eb_8036_f0038c38c6e0row1_col0\" class=\"data row1 col0\" >ROYAL - KASHMIR</td>\n",
       "                        <td id=\"T_76683da4_2103_11eb_8036_f0038c38c6e0row1_col1\" class=\"data row1 col1\" >8.340000</td>\n",
       "            </tr>\n",
       "            <tr>\n",
       "                        <th id=\"T_76683da4_2103_11eb_8036_f0038c38c6e0level0_row2\" class=\"row_heading level0 row2\" >2</th>\n",
       "                        <td id=\"T_76683da4_2103_11eb_8036_f0038c38c6e0row2_col0\" class=\"data row2 col0\" >VIVEKANAND</td>\n",
       "                        <td id=\"T_76683da4_2103_11eb_8036_f0038c38c6e0row2_col1\" class=\"data row2 col1\" >8.280000</td>\n",
       "            </tr>\n",
       "            <tr>\n",
       "                        <th id=\"T_76683da4_2103_11eb_8036_f0038c38c6e0level0_row3\" class=\"row_heading level0 row3\" >3</th>\n",
       "                        <td id=\"T_76683da4_2103_11eb_8036_f0038c38c6e0row3_col0\" class=\"data row3 col0\" >SANT</td>\n",
       "                        <td id=\"T_76683da4_2103_11eb_8036_f0038c38c6e0row3_col1\" class=\"data row3 col1\" >8.190000</td>\n",
       "            </tr>\n",
       "            <tr>\n",
       "                        <th id=\"T_76683da4_2103_11eb_8036_f0038c38c6e0level0_row4\" class=\"row_heading level0 row4\" >4</th>\n",
       "                        <td id=\"T_76683da4_2103_11eb_8036_f0038c38c6e0row4_col0\" class=\"data row4 col0\" >SIES-Nerul</td>\n",
       "                        <td id=\"T_76683da4_2103_11eb_8036_f0038c38c6e0row4_col1\" class=\"data row4 col1\" >8.180000</td>\n",
       "            </tr>\n",
       "            <tr>\n",
       "                        <th id=\"T_76683da4_2103_11eb_8036_f0038c38c6e0level0_row5\" class=\"row_heading level0 row5\" >5</th>\n",
       "                        <td id=\"T_76683da4_2103_11eb_8036_f0038c38c6e0row5_col0\" class=\"data row5 col0\" >DEVGAD</td>\n",
       "                        <td id=\"T_76683da4_2103_11eb_8036_f0038c38c6e0row5_col1\" class=\"data row5 col1\" >8.165000</td>\n",
       "            </tr>\n",
       "            <tr>\n",
       "                        <th id=\"T_76683da4_2103_11eb_8036_f0038c38c6e0level0_row6\" class=\"row_heading level0 row6\" >6</th>\n",
       "                        <td id=\"T_76683da4_2103_11eb_8036_f0038c38c6e0row6_col0\" class=\"data row6 col0\" >NALANDA</td>\n",
       "                        <td id=\"T_76683da4_2103_11eb_8036_f0038c38c6e0row6_col1\" class=\"data row6 col1\" >8.140000</td>\n",
       "            </tr>\n",
       "            <tr>\n",
       "                        <th id=\"T_76683da4_2103_11eb_8036_f0038c38c6e0level0_row7\" class=\"row_heading level0 row7\" >7</th>\n",
       "                        <td id=\"T_76683da4_2103_11eb_8036_f0038c38c6e0row7_col0\" class=\"data row7 col0\" >B.N.BANDODKAR</td>\n",
       "                        <td id=\"T_76683da4_2103_11eb_8036_f0038c38c6e0row7_col1\" class=\"data row7 col1\" >8.140000</td>\n",
       "            </tr>\n",
       "            <tr>\n",
       "                        <th id=\"T_76683da4_2103_11eb_8036_f0038c38c6e0level0_row8\" class=\"row_heading level0 row8\" >8</th>\n",
       "                        <td id=\"T_76683da4_2103_11eb_8036_f0038c38c6e0row8_col0\" class=\"data row8 col0\" >PILLAI</td>\n",
       "                        <td id=\"T_76683da4_2103_11eb_8036_f0038c38c6e0row8_col1\" class=\"data row8 col1\" >8.100000</td>\n",
       "            </tr>\n",
       "            <tr>\n",
       "                        <th id=\"T_76683da4_2103_11eb_8036_f0038c38c6e0level0_row9\" class=\"row_heading level0 row9\" >9</th>\n",
       "                        <td id=\"T_76683da4_2103_11eb_8036_f0038c38c6e0row9_col0\" class=\"data row9 col0\" >RUPAREL</td>\n",
       "                        <td id=\"T_76683da4_2103_11eb_8036_f0038c38c6e0row9_col1\" class=\"data row9 col1\" >8.090000</td>\n",
       "            </tr>\n",
       "            <tr>\n",
       "                        <th id=\"T_76683da4_2103_11eb_8036_f0038c38c6e0level0_row10\" class=\"row_heading level0 row10\" >10</th>\n",
       "                        <td id=\"T_76683da4_2103_11eb_8036_f0038c38c6e0row10_col0\" class=\"data row10 col0\" >MSG-SGKM</td>\n",
       "                        <td id=\"T_76683da4_2103_11eb_8036_f0038c38c6e0row10_col1\" class=\"data row10 col1\" >8.055000</td>\n",
       "            </tr>\n",
       "            <tr>\n",
       "                        <th id=\"T_76683da4_2103_11eb_8036_f0038c38c6e0level0_row11\" class=\"row_heading level0 row11\" >11</th>\n",
       "                        <td id=\"T_76683da4_2103_11eb_8036_f0038c38c6e0row11_col0\" class=\"data row11 col0\" >CHM</td>\n",
       "                        <td id=\"T_76683da4_2103_11eb_8036_f0038c38c6e0row11_col1\" class=\"data row11 col1\" >8.030000</td>\n",
       "            </tr>\n",
       "            <tr>\n",
       "                        <th id=\"T_76683da4_2103_11eb_8036_f0038c38c6e0level0_row12\" class=\"row_heading level0 row12\" >12</th>\n",
       "                        <td id=\"T_76683da4_2103_11eb_8036_f0038c38c6e0row12_col0\" class=\"data row12 col0\" >MULUND</td>\n",
       "                        <td id=\"T_76683da4_2103_11eb_8036_f0038c38c6e0row12_col1\" class=\"data row12 col1\" >8.030000</td>\n",
       "            </tr>\n",
       "            <tr>\n",
       "                        <th id=\"T_76683da4_2103_11eb_8036_f0038c38c6e0level0_row13\" class=\"row_heading level0 row13\" >13</th>\n",
       "                        <td id=\"T_76683da4_2103_11eb_8036_f0038c38c6e0row13_col0\" class=\"data row13 col0\" >N.B.MEHTA</td>\n",
       "                        <td id=\"T_76683da4_2103_11eb_8036_f0038c38c6e0row13_col1\" class=\"data row13 col1\" >8.025000</td>\n",
       "            </tr>\n",
       "            <tr>\n",
       "                        <th id=\"T_76683da4_2103_11eb_8036_f0038c38c6e0level0_row14\" class=\"row_heading level0 row14\" >14</th>\n",
       "                        <td id=\"T_76683da4_2103_11eb_8036_f0038c38c6e0row14_col0\" class=\"data row14 col0\" >ASMITA-</td>\n",
       "                        <td id=\"T_76683da4_2103_11eb_8036_f0038c38c6e0row14_col1\" class=\"data row14 col1\" >7.920000</td>\n",
       "            </tr>\n",
       "    </tbody></table>"
      ],
      "text/plain": [
       "<pandas.io.formats.style.Styler at 0x29441210>"
      ]
     },
     "metadata": {},
     "output_type": "display_data"
    },
    {
     "data": {
      "image/png": "[encoded data removed]",
      "text/plain": [
       "<Figure size 720x720 with 1 Axes>"
      ]
     },
     "metadata": {
      "needs_background": "light"
     },
     "output_type": "display_data"
    }
   ],
   "source": [
    "print_title(\"Top 15 Colleges ranked by MEDIAN CGPA\")\n",
    "# top_colleges_by_cgpa = colleges_df.sort_values(by='CGPA',ascending=True).head(100).reset_index()\n",
    "\n",
    "# ts = top_colleges_by_cgpa.groupby(by='college_name').college_name.count().sort_values()\n",
    "# ts = pd.DataFrame({'collage_name':ts.index,'Number of students':ts.values})\n",
    "\n",
    "\n",
    "ccm_series =colleges_df.groupby(by='college_name').median()['CGPA'].sort_values(ascending=False).head(15)\n",
    "ccm_df = ccm_series.to_frame().reset_index()\n",
    "styled_ccm_df = highlight_value(ccm_df)\n",
    "display(styled_ccm_df)\n",
    "\n",
    "\n",
    "g = sns.catplot(y='college_name',x='CGPA',data=ccm_df,height=10,kind='point')"
   ]
  },
  {
   "cell_type": "code",
   "execution_count": 414,
   "metadata": {},
   "outputs": [
    {
     "data": {
      "text/html": [
       "<h3>Average of SGPA's across all colleges.</h3>"
      ],
      "text/plain": [
       "<IPython.core.display.HTML object>"
      ]
     },
     "metadata": {},
     "output_type": "display_data"
    },
    {
     "data": {
      "text/html": [
       "<div>\n",
       "<style scoped>\n",
       "    .dataframe tbody tr th:only-of-type {\n",
       "        vertical-align: middle;\n",
       "    }\n",
       "\n",
       "    .dataframe tbody tr th {\n",
       "        vertical-align: top;\n",
       "    }\n",
       "\n",
       "    .dataframe thead th {\n",
       "        text-align: right;\n",
       "    }\n",
       "</style>\n",
       "<table border=\"1\" class=\"dataframe\">\n",
       "  <thead>\n",
       "    <tr style=\"text-align: right;\">\n",
       "      <th></th>\n",
       "      <th>Semester</th>\n",
       "      <th>GPA</th>\n",
       "    </tr>\n",
       "  </thead>\n",
       "  <tbody>\n",
       "    <tr>\n",
       "      <th>0</th>\n",
       "      <td>SGP1</td>\n",
       "      <td>6.722234</td>\n",
       "    </tr>\n",
       "    <tr>\n",
       "      <th>1</th>\n",
       "      <td>SGP2</td>\n",
       "      <td>6.716119</td>\n",
       "    </tr>\n",
       "    <tr>\n",
       "      <th>2</th>\n",
       "      <td>SGP3</td>\n",
       "      <td>6.947022</td>\n",
       "    </tr>\n",
       "    <tr>\n",
       "      <th>3</th>\n",
       "      <td>SGP5</td>\n",
       "      <td>7.425798</td>\n",
       "    </tr>\n",
       "    <tr>\n",
       "      <th>4</th>\n",
       "      <td>SGP6</td>\n",
       "      <td>9.253938</td>\n",
       "    </tr>\n",
       "    <tr>\n",
       "      <th>5</th>\n",
       "      <td>SGP4</td>\n",
       "      <td>7.117193</td>\n",
       "    </tr>\n",
       "    <tr>\n",
       "      <th>6</th>\n",
       "      <td>CGPA</td>\n",
       "      <td>7.458992</td>\n",
       "    </tr>\n",
       "  </tbody>\n",
       "</table>\n",
       "</div>"
      ],
      "text/plain": [
       "  Semester       GPA\n",
       "0     SGP1  6.722234\n",
       "1     SGP2  6.716119\n",
       "2     SGP3  6.947022\n",
       "3     SGP5  7.425798\n",
       "4     SGP6  9.253938\n",
       "5     SGP4  7.117193\n",
       "6     CGPA  7.458992"
      ]
     },
     "execution_count": 414,
     "metadata": {},
     "output_type": "execute_result"
    },
    {
     "data": {
      "image/png": "[encoded data removed]",
      "text/plain": [
       "<Figure size 720x720 with 1 Axes>"
      ]
     },
     "metadata": {
      "needs_background": "light"
     },
     "output_type": "display_data"
    }
   ],
   "source": [
    "print_title(\"Average of SGPA's across all colleges.\")\n",
    "\n",
    "overall_gpa_means = colleges_df.groupby(by='college_name').mean().mean()\n",
    "d = overall_gpa_means.to_frame().reset_index().rename(columns={'index':'Semester',0:'GPA'})\n",
    "\n",
    "sns.catplot(x='GPA',y='Semester',data=d,kind='point',height=10)\n",
    "d"
   ]
  }
 ],
 "metadata": {
  "kernelspec": {
   "display_name": "Python 3",
   "language": "python",
   "name": "python3"
  },
  "language_info": {
   "codemirror_mode": {
    "name": "ipython",
    "version": 3
   },
   "file_extension": ".py",
   "mimetype": "text/x-python",
   "name": "python",
   "nbconvert_exporter": "python",
   "pygments_lexer": "ipython3",
   "version": "3.6.4"
  },
  "toc": {
   "base_numbering": 1,
   "nav_menu": {},
   "number_sections": true,
   "sideBar": true,
   "skip_h1_title": false,
   "title_cell": "Table of Contents",
   "title_sidebar": "Contents",
   "toc_cell": false,
   "toc_position": {},
   "toc_section_display": true,
   "toc_window_display": false
  }
 },
 "nbformat": 4,
 "nbformat_minor": 4
}
