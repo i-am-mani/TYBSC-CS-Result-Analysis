{
 "cells": [
  {
   "cell_type": "code",
   "execution_count": 2,
   "metadata": {},
   "outputs": [],
   "source": [
    "import seaborn as sns\n",
    "import pandas as pd"
   ]
  },
  {
   "cell_type": "code",
   "execution_count": 7,
   "metadata": {
    "scrolled": true
   },
   "outputs": [],
   "source": [
    "df = pd.read_excel('marks-IT-1.xlsx')"
   ]
  },
  {
   "cell_type": "code",
   "execution_count": 8,
   "metadata": {},
   "outputs": [
    {
     "data": {
      "text/html": [
       "<div>\n",
       "<style scoped>\n",
       "    .dataframe tbody tr th:only-of-type {\n",
       "        vertical-align: middle;\n",
       "    }\n",
       "\n",
       "    .dataframe tbody tr th {\n",
       "        vertical-align: top;\n",
       "    }\n",
       "\n",
       "    .dataframe thead th {\n",
       "        text-align: right;\n",
       "    }\n",
       "</style>\n",
       "<table border=\"1\" class=\"dataframe\">\n",
       "  <thead>\n",
       "    <tr style=\"text-align: right;\">\n",
       "      <th></th>\n",
       "      <th>name</th>\n",
       "      <th>college_name</th>\n",
       "      <th>SGP6</th>\n",
       "      <th>SGP1</th>\n",
       "      <th>SGP2</th>\n",
       "      <th>SGP3</th>\n",
       "      <th>SGP4</th>\n",
       "      <th>SGP5</th>\n",
       "      <th>CGPA</th>\n",
       "    </tr>\n",
       "  </thead>\n",
       "  <tbody>\n",
       "    <tr>\n",
       "      <th>0</th>\n",
       "      <td>APPAWAR TEJANA GOPI PAVANI</td>\n",
       "      <td>Sasmira's Institute of Commerce and Scie</td>\n",
       "      <td>9.7</td>\n",
       "      <td>7.6</td>\n",
       "      <td>7.1</td>\n",
       "      <td>7.5</td>\n",
       "      <td>8.9</td>\n",
       "      <td>8.8</td>\n",
       "      <td>8.27</td>\n",
       "    </tr>\n",
       "    <tr>\n",
       "      <th>1</th>\n",
       "      <td>ASWANI KUSHAL HARISH NEHA</td>\n",
       "      <td>Kishinchand Chellaram College</td>\n",
       "      <td>9.8</td>\n",
       "      <td>8.2</td>\n",
       "      <td>8.6</td>\n",
       "      <td>8.7</td>\n",
       "      <td>8.5</td>\n",
       "      <td>8.6</td>\n",
       "      <td>8.73</td>\n",
       "    </tr>\n",
       "    <tr>\n",
       "      <th>2</th>\n",
       "      <td>BALOTIYA ANIL SUKHDEV MUTRADEVI</td>\n",
       "      <td>Siddharth College of Arts, Science and C</td>\n",
       "      <td>7.7</td>\n",
       "      <td>6.2</td>\n",
       "      <td>7.1</td>\n",
       "      <td>NaN</td>\n",
       "      <td>7.5</td>\n",
       "      <td>NaN</td>\n",
       "      <td>NaN</td>\n",
       "    </tr>\n",
       "    <tr>\n",
       "      <th>3</th>\n",
       "      <td>BALOTIYA SUNIL CHENARAM SEETADEVI</td>\n",
       "      <td>Siddharth College of Arts, Science and C</td>\n",
       "      <td>8.2</td>\n",
       "      <td>5.7</td>\n",
       "      <td>6.2</td>\n",
       "      <td>NaN</td>\n",
       "      <td>7.3</td>\n",
       "      <td>7.2</td>\n",
       "      <td>NaN</td>\n",
       "    </tr>\n",
       "    <tr>\n",
       "      <th>4</th>\n",
       "      <td>BARANWAL ASHISHKUMAR ANIL RANJANADEVI BARANWAL</td>\n",
       "      <td>Sasmira's Institute of Commerce and Scie</td>\n",
       "      <td>10.0</td>\n",
       "      <td>8.6</td>\n",
       "      <td>8.1</td>\n",
       "      <td>8.6</td>\n",
       "      <td>9.6</td>\n",
       "      <td>9.1</td>\n",
       "      <td>9.00</td>\n",
       "    </tr>\n",
       "  </tbody>\n",
       "</table>\n",
       "</div>"
      ],
      "text/plain": [
       "                                             name  \\\n",
       "0                      APPAWAR TEJANA GOPI PAVANI   \n",
       "1                       ASWANI KUSHAL HARISH NEHA   \n",
       "2                 BALOTIYA ANIL SUKHDEV MUTRADEVI   \n",
       "3               BALOTIYA SUNIL CHENARAM SEETADEVI   \n",
       "4  BARANWAL ASHISHKUMAR ANIL RANJANADEVI BARANWAL   \n",
       "\n",
       "                               college_name  SGP6  SGP1  SGP2  SGP3  SGP4  \\\n",
       "0  Sasmira's Institute of Commerce and Scie   9.7   7.6   7.1   7.5   8.9   \n",
       "1             Kishinchand Chellaram College   9.8   8.2   8.6   8.7   8.5   \n",
       "2  Siddharth College of Arts, Science and C   7.7   6.2   7.1   NaN   7.5   \n",
       "3  Siddharth College of Arts, Science and C   8.2   5.7   6.2   NaN   7.3   \n",
       "4  Sasmira's Institute of Commerce and Scie  10.0   8.6   8.1   8.6   9.6   \n",
       "\n",
       "   SGP5  CGPA  \n",
       "0   8.8  8.27  \n",
       "1   8.6  8.73  \n",
       "2   NaN   NaN  \n",
       "3   7.2   NaN  \n",
       "4   9.1  9.00  "
      ]
     },
     "execution_count": 8,
     "metadata": {},
     "output_type": "execute_result"
    }
   ],
   "source": [
    "df.head()"
   ]
  },
  {
   "cell_type": "code",
   "execution_count": 11,
   "metadata": {},
   "outputs": [
    {
     "data": {
      "text/html": [
       "<div>\n",
       "<style scoped>\n",
       "    .dataframe tbody tr th:only-of-type {\n",
       "        vertical-align: middle;\n",
       "    }\n",
       "\n",
       "    .dataframe tbody tr th {\n",
       "        vertical-align: top;\n",
       "    }\n",
       "\n",
       "    .dataframe thead th {\n",
       "        text-align: right;\n",
       "    }\n",
       "</style>\n",
       "<table border=\"1\" class=\"dataframe\">\n",
       "  <thead>\n",
       "    <tr style=\"text-align: right;\">\n",
       "      <th></th>\n",
       "      <th>SGP6</th>\n",
       "      <th>SGP1</th>\n",
       "      <th>SGP2</th>\n",
       "      <th>SGP3</th>\n",
       "      <th>SGP4</th>\n",
       "      <th>SGP5</th>\n",
       "      <th>CGPA</th>\n",
       "    </tr>\n",
       "  </thead>\n",
       "  <tbody>\n",
       "    <tr>\n",
       "      <th>SGP6</th>\n",
       "      <td>1.000000</td>\n",
       "      <td>0.390610</td>\n",
       "      <td>0.428679</td>\n",
       "      <td>0.415823</td>\n",
       "      <td>0.453976</td>\n",
       "      <td>0.509775</td>\n",
       "      <td>0.589468</td>\n",
       "    </tr>\n",
       "    <tr>\n",
       "      <th>SGP1</th>\n",
       "      <td>0.390610</td>\n",
       "      <td>1.000000</td>\n",
       "      <td>0.776708</td>\n",
       "      <td>0.696588</td>\n",
       "      <td>0.671870</td>\n",
       "      <td>0.530634</td>\n",
       "      <td>0.842476</td>\n",
       "    </tr>\n",
       "    <tr>\n",
       "      <th>SGP2</th>\n",
       "      <td>0.428679</td>\n",
       "      <td>0.776708</td>\n",
       "      <td>1.000000</td>\n",
       "      <td>0.757797</td>\n",
       "      <td>0.743700</td>\n",
       "      <td>0.591637</td>\n",
       "      <td>0.891171</td>\n",
       "    </tr>\n",
       "    <tr>\n",
       "      <th>SGP3</th>\n",
       "      <td>0.415823</td>\n",
       "      <td>0.696588</td>\n",
       "      <td>0.757797</td>\n",
       "      <td>1.000000</td>\n",
       "      <td>0.817060</td>\n",
       "      <td>0.638825</td>\n",
       "      <td>0.900955</td>\n",
       "    </tr>\n",
       "    <tr>\n",
       "      <th>SGP4</th>\n",
       "      <td>0.453976</td>\n",
       "      <td>0.671870</td>\n",
       "      <td>0.743700</td>\n",
       "      <td>0.817060</td>\n",
       "      <td>1.000000</td>\n",
       "      <td>0.671436</td>\n",
       "      <td>0.900275</td>\n",
       "    </tr>\n",
       "    <tr>\n",
       "      <th>SGP5</th>\n",
       "      <td>0.509775</td>\n",
       "      <td>0.530634</td>\n",
       "      <td>0.591637</td>\n",
       "      <td>0.638825</td>\n",
       "      <td>0.671436</td>\n",
       "      <td>1.000000</td>\n",
       "      <td>0.790191</td>\n",
       "    </tr>\n",
       "    <tr>\n",
       "      <th>CGPA</th>\n",
       "      <td>0.589468</td>\n",
       "      <td>0.842476</td>\n",
       "      <td>0.891171</td>\n",
       "      <td>0.900955</td>\n",
       "      <td>0.900275</td>\n",
       "      <td>0.790191</td>\n",
       "      <td>1.000000</td>\n",
       "    </tr>\n",
       "  </tbody>\n",
       "</table>\n",
       "</div>"
      ],
      "text/plain": [
       "          SGP6      SGP1      SGP2      SGP3      SGP4      SGP5      CGPA\n",
       "SGP6  1.000000  0.390610  0.428679  0.415823  0.453976  0.509775  0.589468\n",
       "SGP1  0.390610  1.000000  0.776708  0.696588  0.671870  0.530634  0.842476\n",
       "SGP2  0.428679  0.776708  1.000000  0.757797  0.743700  0.591637  0.891171\n",
       "SGP3  0.415823  0.696588  0.757797  1.000000  0.817060  0.638825  0.900955\n",
       "SGP4  0.453976  0.671870  0.743700  0.817060  1.000000  0.671436  0.900275\n",
       "SGP5  0.509775  0.530634  0.591637  0.638825  0.671436  1.000000  0.790191\n",
       "CGPA  0.589468  0.842476  0.891171  0.900955  0.900275  0.790191  1.000000"
      ]
     },
     "execution_count": 11,
     "metadata": {},
     "output_type": "execute_result"
    }
   ],
   "source": [
    "df.corr()"
   ]
  },
  {
   "cell_type": "code",
   "execution_count": 14,
   "metadata": {},
   "outputs": [
    {
     "data": {
      "text/plain": [
       "<AxesSubplot:>"
      ]
     },
     "execution_count": 14,
     "metadata": {},
     "output_type": "execute_result"
    },
    {
     "data": {
      "image/png": "[encoded data removed]",
      "text/plain": [
       "<Figure size 432x288 with 2 Axes>"
      ]
     },
     "metadata": {
      "needs_background": "light"
     },
     "output_type": "display_data"
    }
   ],
   "source": [
    "## Co-relation b/w indivdual subjects and CGPA\n",
    "sns.heatmap(df.corr())"
   ]
  },
  {
   "cell_type": "code",
   "execution_count": 15,
   "metadata": {},
   "outputs": [
    {
     "name": "stderr",
     "output_type": "stream",
     "text": [
      "C:\\Users\\Mali pc\\anaconda3\\lib\\site-packages\\seaborn\\distributions.py:2551: FutureWarning: `distplot` is a deprecated function and will be removed in a future version. Please adapt your code to use either `displot` (a figure-level function with similar flexibility) or `histplot` (an axes-level function for histograms).\n",
      "  warnings.warn(msg, FutureWarning)\n"
     ]
    },
    {
     "data": {
      "text/plain": [
       "<AxesSubplot:xlabel='CGPA', ylabel='Density'>"
      ]
     },
     "execution_count": 15,
     "metadata": {},
     "output_type": "execute_result"
    },
    {
     "data": {
      "image/png": "[encoded data removed]",
      "text/plain": [
       "<Figure size 432x288 with 1 Axes>"
      ]
     },
     "metadata": {
      "needs_background": "light"
     },
     "output_type": "display_data"
    }
   ],
   "source": [
    "## Percentage of of CGPA\n",
    "\n",
    "sns.distplot(df['CGPA'])"
   ]
  },
  {
   "cell_type": "code",
   "execution_count": 17,
   "metadata": {},
   "outputs": [
    {
     "data": {
      "text/plain": [
       "<AxesSubplot:xlabel='CGPA'>"
      ]
     },
     "execution_count": 17,
     "metadata": {},
     "output_type": "execute_result"
    },
    {
     "data": {
      "image/png": "[encoded data removed]",
      "text/plain": [
       "<Figure size 432x288 with 1 Axes>"
      ]
     },
     "metadata": {
      "needs_background": "light"
     },
     "output_type": "display_data"
    }
   ],
   "source": [
    "## Counts of CGPA\n",
    "\n",
    "sns.distplot(df['CGPA'],kde=False,bins=10)"
   ]
  },
  {
   "cell_type": "code",
   "execution_count": null,
   "metadata": {},
   "outputs": [],
   "source": []
  }
 ],
 "metadata": {
  "kernelspec": {
   "display_name": "Python 3",
   "language": "python",
   "name": "python3"
  },
  "language_info": {
   "codemirror_mode": {
    "name": "ipython",
    "version": 3
   },
   "file_extension": ".py",
   "mimetype": "text/x-python",
   "name": "python",
   "nbconvert_exporter": "python",
   "pygments_lexer": "ipython3",
   "version": "3.8.5"
  }
 },
 "nbformat": 4,
 "nbformat_minor": 4
}
